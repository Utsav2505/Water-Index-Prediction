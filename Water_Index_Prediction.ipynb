{
 "cells": [
  {
   "cell_type": "markdown",
   "id": "2fa0507d",
   "metadata": {
    "papermill": {
     "duration": 0.012966,
     "end_time": "2024-07-30T10:16:04.955577",
     "exception": false,
     "start_time": "2024-07-30T10:16:04.942611",
     "status": "completed"
    },
    "tags": []
   },
   "source": [
    "# Predicting Water Index in India\n",
    "\n",
    "Let's predict the water index. This will help India take necessary measures to prevent water scarcity and optimize water allocation for sustainable water management.\n",
    "\n",
    "## Models to be Trained\n",
    "\n",
    "In this Kaggle Notebook, I will train the following models to solve this regression problem:\n",
    "\n",
    "1. **Linear Regression**\n",
    "2. **Lasso** (Linear Regression with L1 Regularization)\n",
    "3. **Ridge** (Linear Regression with L2 Regularization)\n",
    "4. **Elastic Net**\n",
    "5. **Support Vector Regression**\n",
    "6. **Random Forest Regressor**\n",
    "7. **XGBoost**\n",
    "8. **LSTM**\n",
    "\n",
    "## Evaluation Metrics\n",
    "\n",
    "Following with hyperparameter tuning, we will judge model's testing and training performance based on the following metrics:\n",
    "\n",
    "- **Mean Squared Error (MSE)**\n",
    "- **Mean Absolute Error (MAE)**\n",
    "- **R² Score**\n"
   ]
  },
  {
   "cell_type": "markdown",
   "id": "ee85e4df",
   "metadata": {
    "papermill": {
     "duration": 0.012022,
     "end_time": "2024-07-30T10:16:04.980410",
     "exception": false,
     "start_time": "2024-07-30T10:16:04.968388",
     "status": "completed"
    },
    "tags": []
   },
   "source": [
    "Here I will follow this flow to solve this problem\n",
    "## Data Cleaning -> Data Visualization -> Data Preprocessing -> Model Training -> Exporting Model -> Conclusion"
   ]
  },
  {
   "cell_type": "markdown",
   "id": "60fd232d",
   "metadata": {
    "papermill": {
     "duration": 0.011796,
     "end_time": "2024-07-30T10:16:05.004352",
     "exception": false,
     "start_time": "2024-07-30T10:16:04.992556",
     "status": "completed"
    },
    "tags": []
   },
   "source": [
    "## Let's Import the necessary Libraries"
   ]
  },
  {
   "cell_type": "code",
   "execution_count": 1,
   "id": "e2a858e7",
   "metadata": {
    "execution": {
     "iopub.execute_input": "2024-07-30T10:16:05.032099Z",
     "iopub.status.busy": "2024-07-30T10:16:05.031258Z",
     "iopub.status.idle": "2024-07-30T10:16:20.191814Z",
     "shell.execute_reply": "2024-07-30T10:16:20.190904Z"
    },
    "papermill": {
     "duration": 15.177674,
     "end_time": "2024-07-30T10:16:20.194227",
     "exception": false,
     "start_time": "2024-07-30T10:16:05.016553",
     "status": "completed"
    },
    "tags": []
   },
   "outputs": [
    {
     "name": "stderr",
     "output_type": "stream",
     "text": [
      "2024-07-30 10:16:09.681845: E external/local_xla/xla/stream_executor/cuda/cuda_dnn.cc:9261] Unable to register cuDNN factory: Attempting to register factory for plugin cuDNN when one has already been registered\n",
      "2024-07-30 10:16:09.681984: E external/local_xla/xla/stream_executor/cuda/cuda_fft.cc:607] Unable to register cuFFT factory: Attempting to register factory for plugin cuFFT when one has already been registered\n",
      "2024-07-30 10:16:09.827881: E external/local_xla/xla/stream_executor/cuda/cuda_blas.cc:1515] Unable to register cuBLAS factory: Attempting to register factory for plugin cuBLAS when one has already been registered\n"
     ]
    }
   ],
   "source": [
    "import pandas as pd\n",
    "import matplotlib.pyplot as plt\n",
    "from mpl_toolkits.mplot3d import Axes3D\n",
    "import seaborn as sns\n",
    "import math\n",
    "import time\n",
    "from sklearn.preprocessing import MinMaxScaler\n",
    "from sklearn.model_selection import GridSearchCV\n",
    "from sklearn.linear_model import LinearRegression\n",
    "from sklearn.linear_model import Lasso\n",
    "from sklearn.linear_model import Ridge\n",
    "from sklearn.linear_model import ElasticNet\n",
    "from sklearn.svm import SVR\n",
    "from sklearn.ensemble import RandomForestRegressor\n",
    "import xgboost as xgb\n",
    "from sklearn.model_selection import cross_val_score\n",
    "from sklearn.model_selection import train_test_split\n",
    "from sklearn.metrics import mean_squared_error,mean_absolute_error,r2_score\n",
    "import tensorflow as tf\n",
    "from tensorflow.keras.models import Sequential\n",
    "from tensorflow.keras.layers import LSTM, Dense\n",
    "import numpy as np"
   ]
  },
  {
   "cell_type": "markdown",
   "id": "7adcb7a6",
   "metadata": {
    "papermill": {
     "duration": 0.01206,
     "end_time": "2024-07-30T10:16:20.218753",
     "exception": false,
     "start_time": "2024-07-30T10:16:20.206693",
     "status": "completed"
    },
    "tags": []
   },
   "source": [
    "## Let's Go through the Dataset"
   ]
  },
  {
   "cell_type": "code",
   "execution_count": 2,
   "id": "eb192de2",
   "metadata": {
    "execution": {
     "iopub.execute_input": "2024-07-30T10:16:20.245917Z",
     "iopub.status.busy": "2024-07-30T10:16:20.244742Z",
     "iopub.status.idle": "2024-07-30T10:16:20.287822Z",
     "shell.execute_reply": "2024-07-30T10:16:20.286661Z"
    },
    "papermill": {
     "duration": 0.059124,
     "end_time": "2024-07-30T10:16:20.290321",
     "exception": false,
     "start_time": "2024-07-30T10:16:20.231197",
     "status": "completed"
    },
    "tags": []
   },
   "outputs": [
    {
     "data": {
      "text/html": [
       "<div>\n",
       "<style scoped>\n",
       "    .dataframe tbody tr th:only-of-type {\n",
       "        vertical-align: middle;\n",
       "    }\n",
       "\n",
       "    .dataframe tbody tr th {\n",
       "        vertical-align: top;\n",
       "    }\n",
       "\n",
       "    .dataframe thead th {\n",
       "        text-align: right;\n",
       "    }\n",
       "</style>\n",
       "<table border=\"1\" class=\"dataframe\">\n",
       "  <thead>\n",
       "    <tr style=\"text-align: right;\">\n",
       "      <th></th>\n",
       "      <th>State Name</th>\n",
       "      <th>State area   ( Km^2)</th>\n",
       "      <th>Year</th>\n",
       "      <th>State Population</th>\n",
       "      <th>Total Water Storage in Reservoirs(mcm)</th>\n",
       "      <th>Groundwater Level(mbgl)</th>\n",
       "      <th>Total Water Demand(BCM)</th>\n",
       "      <th>Rain Water(mm)</th>\n",
       "      <th>Population Density(per Km^2)</th>\n",
       "      <th>Water Stress Index</th>\n",
       "    </tr>\n",
       "  </thead>\n",
       "  <tbody>\n",
       "    <tr>\n",
       "      <th>0</th>\n",
       "      <td>Andhra Pradesh</td>\n",
       "      <td>162,975</td>\n",
       "      <td>2023</td>\n",
       "      <td>101,024,395</td>\n",
       "      <td>8,021</td>\n",
       "      <td>11.07</td>\n",
       "      <td>49.0</td>\n",
       "      <td>151.5</td>\n",
       "      <td>619.876638</td>\n",
       "      <td>9.952877</td>\n",
       "    </tr>\n",
       "    <tr>\n",
       "      <th>1</th>\n",
       "      <td>Andhra Pradesh</td>\n",
       "      <td>162,975</td>\n",
       "      <td>2022</td>\n",
       "      <td>99734221</td>\n",
       "      <td>7,539</td>\n",
       "      <td>10.97</td>\n",
       "      <td>48.5</td>\n",
       "      <td>575.5</td>\n",
       "      <td>611.960245</td>\n",
       "      <td>8.622313</td>\n",
       "    </tr>\n",
       "    <tr>\n",
       "      <th>2</th>\n",
       "      <td>Andhra Pradesh</td>\n",
       "      <td>162,975</td>\n",
       "      <td>2021</td>\n",
       "      <td>98449661</td>\n",
       "      <td>7,742</td>\n",
       "      <td>7.57</td>\n",
       "      <td>48.0</td>\n",
       "      <td>1095.7</td>\n",
       "      <td>604.078300</td>\n",
       "      <td>8.717334</td>\n",
       "    </tr>\n",
       "    <tr>\n",
       "      <th>3</th>\n",
       "      <td>Andhra Pradesh</td>\n",
       "      <td>162,975</td>\n",
       "      <td>2020</td>\n",
       "      <td>97170395</td>\n",
       "      <td>7,911</td>\n",
       "      <td>6.81</td>\n",
       "      <td>47.5</td>\n",
       "      <td>370.3</td>\n",
       "      <td>596.228839</td>\n",
       "      <td>8.364753</td>\n",
       "    </tr>\n",
       "    <tr>\n",
       "      <th>4</th>\n",
       "      <td>Andhra Pradesh</td>\n",
       "      <td>162,975</td>\n",
       "      <td>2019</td>\n",
       "      <td>95896435</td>\n",
       "      <td>7,451</td>\n",
       "      <td>11.20</td>\n",
       "      <td>47.0</td>\n",
       "      <td>790.7</td>\n",
       "      <td>588.411934</td>\n",
       "      <td>9.092267</td>\n",
       "    </tr>\n",
       "  </tbody>\n",
       "</table>\n",
       "</div>"
      ],
      "text/plain": [
       "       State Name State area   ( Km^2)  Year State Population  \\\n",
       "0  Andhra Pradesh              162,975  2023      101,024,395   \n",
       "1  Andhra Pradesh              162,975  2022         99734221   \n",
       "2  Andhra Pradesh              162,975  2021         98449661   \n",
       "3  Andhra Pradesh              162,975  2020         97170395   \n",
       "4  Andhra Pradesh              162,975  2019         95896435   \n",
       "\n",
       "  Total Water Storage in Reservoirs(mcm)  Groundwater Level(mbgl)  \\\n",
       "0                                  8,021                    11.07   \n",
       "1                                  7,539                    10.97   \n",
       "2                                  7,742                     7.57   \n",
       "3                                  7,911                     6.81   \n",
       "4                                  7,451                    11.20   \n",
       "\n",
       "   Total Water Demand(BCM) Rain Water(mm)  Population Density(per Km^2)  \\\n",
       "0                     49.0          151.5                    619.876638   \n",
       "1                     48.5          575.5                    611.960245   \n",
       "2                     48.0         1095.7                    604.078300   \n",
       "3                     47.5          370.3                    596.228839   \n",
       "4                     47.0          790.7                    588.411934   \n",
       "\n",
       "   Water Stress Index  \n",
       "0            9.952877  \n",
       "1            8.622313  \n",
       "2            8.717334  \n",
       "3            8.364753  \n",
       "4            9.092267  "
      ]
     },
     "execution_count": 2,
     "metadata": {},
     "output_type": "execute_result"
    }
   ],
   "source": [
    "df = pd.read_csv(\"/kaggle/input/india-state-level-water-stress-index-dataset/Water Stress2.csv\")\n",
    "df.head()"
   ]
  },
  {
   "cell_type": "code",
   "execution_count": 3,
   "id": "035044c2",
   "metadata": {
    "execution": {
     "iopub.execute_input": "2024-07-30T10:16:20.318496Z",
     "iopub.status.busy": "2024-07-30T10:16:20.317756Z",
     "iopub.status.idle": "2024-07-30T10:16:20.343407Z",
     "shell.execute_reply": "2024-07-30T10:16:20.342424Z"
    },
    "papermill": {
     "duration": 0.042446,
     "end_time": "2024-07-30T10:16:20.345543",
     "exception": false,
     "start_time": "2024-07-30T10:16:20.303097",
     "status": "completed"
    },
    "tags": []
   },
   "outputs": [
    {
     "data": {
      "text/html": [
       "<div>\n",
       "<style scoped>\n",
       "    .dataframe tbody tr th:only-of-type {\n",
       "        vertical-align: middle;\n",
       "    }\n",
       "\n",
       "    .dataframe tbody tr th {\n",
       "        vertical-align: top;\n",
       "    }\n",
       "\n",
       "    .dataframe thead th {\n",
       "        text-align: right;\n",
       "    }\n",
       "</style>\n",
       "<table border=\"1\" class=\"dataframe\">\n",
       "  <thead>\n",
       "    <tr style=\"text-align: right;\">\n",
       "      <th></th>\n",
       "      <th>Year</th>\n",
       "      <th>Groundwater Level(mbgl)</th>\n",
       "      <th>Total Water Demand(BCM)</th>\n",
       "      <th>Population Density(per Km^2)</th>\n",
       "      <th>Water Stress Index</th>\n",
       "    </tr>\n",
       "  </thead>\n",
       "  <tbody>\n",
       "    <tr>\n",
       "      <th>count</th>\n",
       "      <td>504.000000</td>\n",
       "      <td>504.000000</td>\n",
       "      <td>504.000000</td>\n",
       "      <td>504.000000</td>\n",
       "      <td>504.000000</td>\n",
       "    </tr>\n",
       "    <tr>\n",
       "      <th>mean</th>\n",
       "      <td>2016.500000</td>\n",
       "      <td>8.474975</td>\n",
       "      <td>17.834603</td>\n",
       "      <td>1333.923233</td>\n",
       "      <td>3.878838</td>\n",
       "    </tr>\n",
       "    <tr>\n",
       "      <th>std</th>\n",
       "      <td>4.035134</td>\n",
       "      <td>7.641005</td>\n",
       "      <td>19.726101</td>\n",
       "      <td>3331.950335</td>\n",
       "      <td>4.133781</td>\n",
       "    </tr>\n",
       "    <tr>\n",
       "      <th>min</th>\n",
       "      <td>2010.000000</td>\n",
       "      <td>0.400000</td>\n",
       "      <td>0.040000</td>\n",
       "      <td>13.111162</td>\n",
       "      <td>0.017806</td>\n",
       "    </tr>\n",
       "    <tr>\n",
       "      <th>25%</th>\n",
       "      <td>2013.000000</td>\n",
       "      <td>4.340000</td>\n",
       "      <td>1.477500</td>\n",
       "      <td>188.778590</td>\n",
       "      <td>0.534972</td>\n",
       "    </tr>\n",
       "    <tr>\n",
       "      <th>50%</th>\n",
       "      <td>2016.500000</td>\n",
       "      <td>6.030000</td>\n",
       "      <td>9.700000</td>\n",
       "      <td>368.460298</td>\n",
       "      <td>2.224460</td>\n",
       "    </tr>\n",
       "    <tr>\n",
       "      <th>75%</th>\n",
       "      <td>2020.000000</td>\n",
       "      <td>9.935000</td>\n",
       "      <td>30.925000</td>\n",
       "      <td>859.191030</td>\n",
       "      <td>6.784195</td>\n",
       "    </tr>\n",
       "    <tr>\n",
       "      <th>max</th>\n",
       "      <td>2023.000000</td>\n",
       "      <td>60.490000</td>\n",
       "      <td>79.800000</td>\n",
       "      <td>22197.439350</td>\n",
       "      <td>18.999209</td>\n",
       "    </tr>\n",
       "  </tbody>\n",
       "</table>\n",
       "</div>"
      ],
      "text/plain": [
       "              Year  Groundwater Level(mbgl)  Total Water Demand(BCM)  \\\n",
       "count   504.000000               504.000000               504.000000   \n",
       "mean   2016.500000                 8.474975                17.834603   \n",
       "std       4.035134                 7.641005                19.726101   \n",
       "min    2010.000000                 0.400000                 0.040000   \n",
       "25%    2013.000000                 4.340000                 1.477500   \n",
       "50%    2016.500000                 6.030000                 9.700000   \n",
       "75%    2020.000000                 9.935000                30.925000   \n",
       "max    2023.000000                60.490000                79.800000   \n",
       "\n",
       "       Population Density(per Km^2)  Water Stress Index  \n",
       "count                    504.000000          504.000000  \n",
       "mean                    1333.923233            3.878838  \n",
       "std                     3331.950335            4.133781  \n",
       "min                       13.111162            0.017806  \n",
       "25%                      188.778590            0.534972  \n",
       "50%                      368.460298            2.224460  \n",
       "75%                      859.191030            6.784195  \n",
       "max                    22197.439350           18.999209  "
      ]
     },
     "execution_count": 3,
     "metadata": {},
     "output_type": "execute_result"
    }
   ],
   "source": [
    "df.describe()"
   ]
  },
  {
   "cell_type": "markdown",
   "id": "edec0f58",
   "metadata": {
    "papermill": {
     "duration": 0.012723,
     "end_time": "2024-07-30T10:16:20.371177",
     "exception": false,
     "start_time": "2024-07-30T10:16:20.358454",
     "status": "completed"
    },
    "tags": []
   },
   "source": [
    "# Data Cleaning "
   ]
  },
  {
   "cell_type": "code",
   "execution_count": 4,
   "id": "0104515f",
   "metadata": {
    "execution": {
     "iopub.execute_input": "2024-07-30T10:16:20.398972Z",
     "iopub.status.busy": "2024-07-30T10:16:20.398056Z",
     "iopub.status.idle": "2024-07-30T10:16:20.406757Z",
     "shell.execute_reply": "2024-07-30T10:16:20.405780Z"
    },
    "papermill": {
     "duration": 0.024854,
     "end_time": "2024-07-30T10:16:20.408874",
     "exception": false,
     "start_time": "2024-07-30T10:16:20.384020",
     "status": "completed"
    },
    "tags": []
   },
   "outputs": [
    {
     "data": {
      "text/plain": [
       "State Name                                0\n",
       "State area   ( Km^2)                      0\n",
       "Year                                      0\n",
       "State Population                          0\n",
       "Total Water Storage in Reservoirs(mcm)    0\n",
       "Groundwater Level(mbgl)                   0\n",
       "Total Water Demand(BCM)                   0\n",
       "Rain Water(mm)                            1\n",
       "Population Density(per Km^2)              0\n",
       "Water Stress Index                        0\n",
       "dtype: int64"
      ]
     },
     "execution_count": 4,
     "metadata": {},
     "output_type": "execute_result"
    }
   ],
   "source": [
    "df.isnull().sum()"
   ]
  },
  {
   "cell_type": "code",
   "execution_count": 5,
   "id": "dd662908",
   "metadata": {
    "execution": {
     "iopub.execute_input": "2024-07-30T10:16:20.437489Z",
     "iopub.status.busy": "2024-07-30T10:16:20.436646Z",
     "iopub.status.idle": "2024-07-30T10:16:20.448940Z",
     "shell.execute_reply": "2024-07-30T10:16:20.447901Z"
    },
    "papermill": {
     "duration": 0.029278,
     "end_time": "2024-07-30T10:16:20.451122",
     "exception": false,
     "start_time": "2024-07-30T10:16:20.421844",
     "status": "completed"
    },
    "tags": []
   },
   "outputs": [],
   "source": [
    "# Some of the data got comma(,), we have to clean this\n",
    "cols = df.columns\n",
    "for col in cols:\n",
    "    try:\n",
    "        df[col] = df[col].str.replace(',', '').astype(float)\n",
    "    except:\n",
    "        pass\n",
    "    \n",
    "#  We got one column with empty cell, Let's solve that\n",
    "med = df['Rain Water(mm)'].median()\n",
    "med = math.floor(med)\n",
    "df['Rain Water(mm)'] = df['Rain Water(mm)'].fillna(med)"
   ]
  },
  {
   "cell_type": "markdown",
   "id": "2e46c80a",
   "metadata": {
    "papermill": {
     "duration": 0.012711,
     "end_time": "2024-07-30T10:16:20.476922",
     "exception": false,
     "start_time": "2024-07-30T10:16:20.464211",
     "status": "completed"
    },
    "tags": []
   },
   "source": [
    "# Data Visualiation"
   ]
  },
  {
   "cell_type": "markdown",
   "id": "179efcda",
   "metadata": {
    "papermill": {
     "duration": 0.012665,
     "end_time": "2024-07-30T10:16:20.502666",
     "exception": false,
     "start_time": "2024-07-30T10:16:20.490001",
     "status": "completed"
    },
    "tags": []
   },
   "source": [
    "# Data Preprocessing"
   ]
  },
  {
   "cell_type": "markdown",
   "id": "04ac15bf",
   "metadata": {
    "papermill": {
     "duration": 0.013125,
     "end_time": "2024-07-30T10:16:20.528896",
     "exception": false,
     "start_time": "2024-07-30T10:16:20.515771",
     "status": "completed"
    },
    "tags": []
   },
   "source": [
    "## Step 1: We will first encode the State Name column using Label Encoder\n",
    "Though One Hot Encoding can also be used, but it will increase Dataset Dimensionality though\n",
    "So I am avoiding it to save time as I will do Hyperparameter tuning"
   ]
  },
  {
   "cell_type": "code",
   "execution_count": 6,
   "id": "2c1a395e",
   "metadata": {
    "execution": {
     "iopub.execute_input": "2024-07-30T10:16:20.557014Z",
     "iopub.status.busy": "2024-07-30T10:16:20.556626Z",
     "iopub.status.idle": "2024-07-30T10:16:20.561449Z",
     "shell.execute_reply": "2024-07-30T10:16:20.560437Z"
    },
    "papermill": {
     "duration": 0.021888,
     "end_time": "2024-07-30T10:16:20.563803",
     "exception": false,
     "start_time": "2024-07-30T10:16:20.541915",
     "status": "completed"
    },
    "tags": []
   },
   "outputs": [],
   "source": [
    "from sklearn.preprocessing import LabelEncoder\n",
    "le = LabelEncoder()"
   ]
  },
  {
   "cell_type": "code",
   "execution_count": 7,
   "id": "a938c4e4",
   "metadata": {
    "execution": {
     "iopub.execute_input": "2024-07-30T10:16:20.592754Z",
     "iopub.status.busy": "2024-07-30T10:16:20.591886Z",
     "iopub.status.idle": "2024-07-30T10:16:20.616354Z",
     "shell.execute_reply": "2024-07-30T10:16:20.615322Z"
    },
    "papermill": {
     "duration": 0.0414,
     "end_time": "2024-07-30T10:16:20.618715",
     "exception": false,
     "start_time": "2024-07-30T10:16:20.577315",
     "status": "completed"
    },
    "tags": []
   },
   "outputs": [
    {
     "data": {
      "text/html": [
       "<div>\n",
       "<style scoped>\n",
       "    .dataframe tbody tr th:only-of-type {\n",
       "        vertical-align: middle;\n",
       "    }\n",
       "\n",
       "    .dataframe tbody tr th {\n",
       "        vertical-align: top;\n",
       "    }\n",
       "\n",
       "    .dataframe thead th {\n",
       "        text-align: right;\n",
       "    }\n",
       "</style>\n",
       "<table border=\"1\" class=\"dataframe\">\n",
       "  <thead>\n",
       "    <tr style=\"text-align: right;\">\n",
       "      <th></th>\n",
       "      <th>State Name</th>\n",
       "      <th>State area   ( Km^2)</th>\n",
       "      <th>Year</th>\n",
       "      <th>State Population</th>\n",
       "      <th>Total Water Storage in Reservoirs(mcm)</th>\n",
       "      <th>Groundwater Level(mbgl)</th>\n",
       "      <th>Total Water Demand(BCM)</th>\n",
       "      <th>Rain Water(mm)</th>\n",
       "      <th>Population Density(per Km^2)</th>\n",
       "      <th>Water Stress Index</th>\n",
       "    </tr>\n",
       "  </thead>\n",
       "  <tbody>\n",
       "    <tr>\n",
       "      <th>0</th>\n",
       "      <td>1</td>\n",
       "      <td>162975.0</td>\n",
       "      <td>2023</td>\n",
       "      <td>101024395.0</td>\n",
       "      <td>8021.00</td>\n",
       "      <td>11.07</td>\n",
       "      <td>49.00</td>\n",
       "      <td>151.500000</td>\n",
       "      <td>619.876638</td>\n",
       "      <td>9.952877</td>\n",
       "    </tr>\n",
       "    <tr>\n",
       "      <th>1</th>\n",
       "      <td>1</td>\n",
       "      <td>162975.0</td>\n",
       "      <td>2022</td>\n",
       "      <td>99734221.0</td>\n",
       "      <td>7539.00</td>\n",
       "      <td>10.97</td>\n",
       "      <td>48.50</td>\n",
       "      <td>575.500000</td>\n",
       "      <td>611.960245</td>\n",
       "      <td>8.622313</td>\n",
       "    </tr>\n",
       "    <tr>\n",
       "      <th>2</th>\n",
       "      <td>1</td>\n",
       "      <td>162975.0</td>\n",
       "      <td>2021</td>\n",
       "      <td>98449661.0</td>\n",
       "      <td>7742.00</td>\n",
       "      <td>7.57</td>\n",
       "      <td>48.00</td>\n",
       "      <td>1095.700000</td>\n",
       "      <td>604.078300</td>\n",
       "      <td>8.717334</td>\n",
       "    </tr>\n",
       "    <tr>\n",
       "      <th>3</th>\n",
       "      <td>1</td>\n",
       "      <td>162975.0</td>\n",
       "      <td>2020</td>\n",
       "      <td>97170395.0</td>\n",
       "      <td>7911.00</td>\n",
       "      <td>6.81</td>\n",
       "      <td>47.50</td>\n",
       "      <td>370.300000</td>\n",
       "      <td>596.228839</td>\n",
       "      <td>8.364753</td>\n",
       "    </tr>\n",
       "    <tr>\n",
       "      <th>4</th>\n",
       "      <td>1</td>\n",
       "      <td>162975.0</td>\n",
       "      <td>2019</td>\n",
       "      <td>95896435.0</td>\n",
       "      <td>7451.00</td>\n",
       "      <td>11.20</td>\n",
       "      <td>47.00</td>\n",
       "      <td>790.700000</td>\n",
       "      <td>588.411934</td>\n",
       "      <td>9.092267</td>\n",
       "    </tr>\n",
       "    <tr>\n",
       "      <th>...</th>\n",
       "      <td>...</td>\n",
       "      <td>...</td>\n",
       "      <td>...</td>\n",
       "      <td>...</td>\n",
       "      <td>...</td>\n",
       "      <td>...</td>\n",
       "      <td>...</td>\n",
       "      <td>...</td>\n",
       "      <td>...</td>\n",
       "      <td>...</td>\n",
       "    </tr>\n",
       "    <tr>\n",
       "      <th>499</th>\n",
       "      <td>26</td>\n",
       "      <td>294.0</td>\n",
       "      <td>2014</td>\n",
       "      <td>696324.0</td>\n",
       "      <td>141.89</td>\n",
       "      <td>17.21</td>\n",
       "      <td>0.87</td>\n",
       "      <td>1330.000000</td>\n",
       "      <td>2368.448980</td>\n",
       "      <td>2.594037</td>\n",
       "    </tr>\n",
       "    <tr>\n",
       "      <th>500</th>\n",
       "      <td>26</td>\n",
       "      <td>294.0</td>\n",
       "      <td>2013</td>\n",
       "      <td>680979.0</td>\n",
       "      <td>134.41</td>\n",
       "      <td>8.96</td>\n",
       "      <td>0.86</td>\n",
       "      <td>1298.100000</td>\n",
       "      <td>2316.255102</td>\n",
       "      <td>2.003621</td>\n",
       "    </tr>\n",
       "    <tr>\n",
       "      <th>501</th>\n",
       "      <td>26</td>\n",
       "      <td>294.0</td>\n",
       "      <td>2012</td>\n",
       "      <td>665634.0</td>\n",
       "      <td>139.41</td>\n",
       "      <td>3.17</td>\n",
       "      <td>0.86</td>\n",
       "      <td>1266.400000</td>\n",
       "      <td>2264.061224</td>\n",
       "      <td>0.252567</td>\n",
       "    </tr>\n",
       "    <tr>\n",
       "      <th>502</th>\n",
       "      <td>26</td>\n",
       "      <td>294.0</td>\n",
       "      <td>2011</td>\n",
       "      <td>650289.0</td>\n",
       "      <td>134.91</td>\n",
       "      <td>4.65</td>\n",
       "      <td>0.85</td>\n",
       "      <td>1234.776364</td>\n",
       "      <td>2211.867347</td>\n",
       "      <td>0.251834</td>\n",
       "    </tr>\n",
       "    <tr>\n",
       "      <th>503</th>\n",
       "      <td>26</td>\n",
       "      <td>294.0</td>\n",
       "      <td>2010</td>\n",
       "      <td>650289.0</td>\n",
       "      <td>129.11</td>\n",
       "      <td>2.48</td>\n",
       "      <td>0.85</td>\n",
       "      <td>1203.107273</td>\n",
       "      <td>2211.867347</td>\n",
       "      <td>0.240334</td>\n",
       "    </tr>\n",
       "  </tbody>\n",
       "</table>\n",
       "<p>504 rows × 10 columns</p>\n",
       "</div>"
      ],
      "text/plain": [
       "     State Name  State area   ( Km^2)  Year  State Population  \\\n",
       "0             1              162975.0  2023       101024395.0   \n",
       "1             1              162975.0  2022        99734221.0   \n",
       "2             1              162975.0  2021        98449661.0   \n",
       "3             1              162975.0  2020        97170395.0   \n",
       "4             1              162975.0  2019        95896435.0   \n",
       "..          ...                   ...   ...               ...   \n",
       "499          26                 294.0  2014          696324.0   \n",
       "500          26                 294.0  2013          680979.0   \n",
       "501          26                 294.0  2012          665634.0   \n",
       "502          26                 294.0  2011          650289.0   \n",
       "503          26                 294.0  2010          650289.0   \n",
       "\n",
       "     Total Water Storage in Reservoirs(mcm)  Groundwater Level(mbgl)  \\\n",
       "0                                   8021.00                    11.07   \n",
       "1                                   7539.00                    10.97   \n",
       "2                                   7742.00                     7.57   \n",
       "3                                   7911.00                     6.81   \n",
       "4                                   7451.00                    11.20   \n",
       "..                                      ...                      ...   \n",
       "499                                  141.89                    17.21   \n",
       "500                                  134.41                     8.96   \n",
       "501                                  139.41                     3.17   \n",
       "502                                  134.91                     4.65   \n",
       "503                                  129.11                     2.48   \n",
       "\n",
       "     Total Water Demand(BCM)  Rain Water(mm)  Population Density(per Km^2)  \\\n",
       "0                      49.00      151.500000                    619.876638   \n",
       "1                      48.50      575.500000                    611.960245   \n",
       "2                      48.00     1095.700000                    604.078300   \n",
       "3                      47.50      370.300000                    596.228839   \n",
       "4                      47.00      790.700000                    588.411934   \n",
       "..                       ...             ...                           ...   \n",
       "499                     0.87     1330.000000                   2368.448980   \n",
       "500                     0.86     1298.100000                   2316.255102   \n",
       "501                     0.86     1266.400000                   2264.061224   \n",
       "502                     0.85     1234.776364                   2211.867347   \n",
       "503                     0.85     1203.107273                   2211.867347   \n",
       "\n",
       "     Water Stress Index  \n",
       "0              9.952877  \n",
       "1              8.622313  \n",
       "2              8.717334  \n",
       "3              8.364753  \n",
       "4              9.092267  \n",
       "..                  ...  \n",
       "499            2.594037  \n",
       "500            2.003621  \n",
       "501            0.252567  \n",
       "502            0.251834  \n",
       "503            0.240334  \n",
       "\n",
       "[504 rows x 10 columns]"
      ]
     },
     "execution_count": 7,
     "metadata": {},
     "output_type": "execute_result"
    }
   ],
   "source": [
    "df['State Name'] = le.fit_transform(df['State Name'])\n",
    "df"
   ]
  },
  {
   "cell_type": "code",
   "execution_count": 8,
   "id": "5b4e6fa8",
   "metadata": {
    "execution": {
     "iopub.execute_input": "2024-07-30T10:16:20.647227Z",
     "iopub.status.busy": "2024-07-30T10:16:20.646822Z",
     "iopub.status.idle": "2024-07-30T10:16:20.657235Z",
     "shell.execute_reply": "2024-07-30T10:16:20.656213Z"
    },
    "papermill": {
     "duration": 0.027197,
     "end_time": "2024-07-30T10:16:20.659419",
     "exception": false,
     "start_time": "2024-07-30T10:16:20.632222",
     "status": "completed"
    },
    "tags": []
   },
   "outputs": [
    {
     "data": {
      "text/plain": [
       "array([ 1,  2,  3,  4,  6,  9, 10, 11, 12, 13, 15, 16, 17, 20, 19, 21, 22,\n",
       "       23, 24, 25, 27, 28, 29, 30, 32, 31, 33, 34, 35,  0,  5,  7,  8, 14,\n",
       "       18, 26])"
      ]
     },
     "execution_count": 8,
     "metadata": {},
     "output_type": "execute_result"
    }
   ],
   "source": [
    "df['State Name'].unique()"
   ]
  },
  {
   "cell_type": "markdown",
   "id": "97f72c7d",
   "metadata": {
    "papermill": {
     "duration": 0.013249,
     "end_time": "2024-07-30T10:16:20.686087",
     "exception": false,
     "start_time": "2024-07-30T10:16:20.672838",
     "status": "completed"
    },
    "tags": []
   },
   "source": [
    "## Step 2: Let's now standardize the data using Min-Max Scaling"
   ]
  },
  {
   "cell_type": "code",
   "execution_count": 9,
   "id": "0bade78e",
   "metadata": {
    "execution": {
     "iopub.execute_input": "2024-07-30T10:16:20.715316Z",
     "iopub.status.busy": "2024-07-30T10:16:20.714401Z",
     "iopub.status.idle": "2024-07-30T10:16:20.773155Z",
     "shell.execute_reply": "2024-07-30T10:16:20.772154Z"
    },
    "papermill": {
     "duration": 0.075666,
     "end_time": "2024-07-30T10:16:20.775393",
     "exception": false,
     "start_time": "2024-07-30T10:16:20.699727",
     "status": "completed"
    },
    "tags": []
   },
   "outputs": [
    {
     "data": {
      "text/html": [
       "<div>\n",
       "<style scoped>\n",
       "    .dataframe tbody tr th:only-of-type {\n",
       "        vertical-align: middle;\n",
       "    }\n",
       "\n",
       "    .dataframe tbody tr th {\n",
       "        vertical-align: top;\n",
       "    }\n",
       "\n",
       "    .dataframe thead th {\n",
       "        text-align: right;\n",
       "    }\n",
       "</style>\n",
       "<table border=\"1\" class=\"dataframe\">\n",
       "  <thead>\n",
       "    <tr style=\"text-align: right;\">\n",
       "      <th></th>\n",
       "      <th>State Name</th>\n",
       "      <th>State area   ( Km^2)</th>\n",
       "      <th>Year</th>\n",
       "      <th>State Population</th>\n",
       "      <th>Total Water Storage in Reservoirs(mcm)</th>\n",
       "      <th>Groundwater Level(mbgl)</th>\n",
       "      <th>Total Water Demand(BCM)</th>\n",
       "      <th>Rain Water(mm)</th>\n",
       "      <th>Population Density(per Km^2)</th>\n",
       "      <th>Water Stress Index</th>\n",
       "    </tr>\n",
       "  </thead>\n",
       "  <tbody>\n",
       "    <tr>\n",
       "      <th>0</th>\n",
       "      <td>0.028571</td>\n",
       "      <td>0.476153</td>\n",
       "      <td>1.000000</td>\n",
       "      <td>0.454715</td>\n",
       "      <td>0.127063</td>\n",
       "      <td>0.177567</td>\n",
       "      <td>0.613842</td>\n",
       "      <td>0.011458</td>\n",
       "      <td>0.027351</td>\n",
       "      <td>0.523411</td>\n",
       "    </tr>\n",
       "    <tr>\n",
       "      <th>1</th>\n",
       "      <td>0.028571</td>\n",
       "      <td>0.476153</td>\n",
       "      <td>0.923077</td>\n",
       "      <td>0.448904</td>\n",
       "      <td>0.119422</td>\n",
       "      <td>0.175903</td>\n",
       "      <td>0.607573</td>\n",
       "      <td>0.084075</td>\n",
       "      <td>0.026994</td>\n",
       "      <td>0.453313</td>\n",
       "    </tr>\n",
       "    <tr>\n",
       "      <th>2</th>\n",
       "      <td>0.028571</td>\n",
       "      <td>0.476153</td>\n",
       "      <td>0.846154</td>\n",
       "      <td>0.443118</td>\n",
       "      <td>0.122640</td>\n",
       "      <td>0.119321</td>\n",
       "      <td>0.601304</td>\n",
       "      <td>0.173169</td>\n",
       "      <td>0.026639</td>\n",
       "      <td>0.458319</td>\n",
       "    </tr>\n",
       "    <tr>\n",
       "      <th>3</th>\n",
       "      <td>0.028571</td>\n",
       "      <td>0.476153</td>\n",
       "      <td>0.769231</td>\n",
       "      <td>0.437356</td>\n",
       "      <td>0.125319</td>\n",
       "      <td>0.106673</td>\n",
       "      <td>0.595035</td>\n",
       "      <td>0.048931</td>\n",
       "      <td>0.026285</td>\n",
       "      <td>0.439743</td>\n",
       "    </tr>\n",
       "    <tr>\n",
       "      <th>4</th>\n",
       "      <td>0.028571</td>\n",
       "      <td>0.476153</td>\n",
       "      <td>0.692308</td>\n",
       "      <td>0.431619</td>\n",
       "      <td>0.118027</td>\n",
       "      <td>0.179730</td>\n",
       "      <td>0.588766</td>\n",
       "      <td>0.120932</td>\n",
       "      <td>0.025933</td>\n",
       "      <td>0.478071</td>\n",
       "    </tr>\n",
       "    <tr>\n",
       "      <th>...</th>\n",
       "      <td>...</td>\n",
       "      <td>...</td>\n",
       "      <td>...</td>\n",
       "      <td>...</td>\n",
       "      <td>...</td>\n",
       "      <td>...</td>\n",
       "      <td>...</td>\n",
       "      <td>...</td>\n",
       "      <td>...</td>\n",
       "      <td>...</td>\n",
       "    </tr>\n",
       "    <tr>\n",
       "      <th>499</th>\n",
       "      <td>0.742857</td>\n",
       "      <td>0.000766</td>\n",
       "      <td>0.307692</td>\n",
       "      <td>0.002846</td>\n",
       "      <td>0.002163</td>\n",
       "      <td>0.279747</td>\n",
       "      <td>0.010406</td>\n",
       "      <td>0.213297</td>\n",
       "      <td>0.106171</td>\n",
       "      <td>0.135724</td>\n",
       "    </tr>\n",
       "    <tr>\n",
       "      <th>500</th>\n",
       "      <td>0.742857</td>\n",
       "      <td>0.000766</td>\n",
       "      <td>0.230769</td>\n",
       "      <td>0.002777</td>\n",
       "      <td>0.002045</td>\n",
       "      <td>0.142453</td>\n",
       "      <td>0.010281</td>\n",
       "      <td>0.207834</td>\n",
       "      <td>0.103819</td>\n",
       "      <td>0.104619</td>\n",
       "    </tr>\n",
       "    <tr>\n",
       "      <th>501</th>\n",
       "      <td>0.742857</td>\n",
       "      <td>0.000766</td>\n",
       "      <td>0.153846</td>\n",
       "      <td>0.002708</td>\n",
       "      <td>0.002124</td>\n",
       "      <td>0.046098</td>\n",
       "      <td>0.010281</td>\n",
       "      <td>0.202405</td>\n",
       "      <td>0.101466</td>\n",
       "      <td>0.012368</td>\n",
       "    </tr>\n",
       "    <tr>\n",
       "      <th>502</th>\n",
       "      <td>0.742857</td>\n",
       "      <td>0.000766</td>\n",
       "      <td>0.076923</td>\n",
       "      <td>0.002638</td>\n",
       "      <td>0.002053</td>\n",
       "      <td>0.070727</td>\n",
       "      <td>0.010155</td>\n",
       "      <td>0.196988</td>\n",
       "      <td>0.099113</td>\n",
       "      <td>0.012329</td>\n",
       "    </tr>\n",
       "    <tr>\n",
       "      <th>503</th>\n",
       "      <td>0.742857</td>\n",
       "      <td>0.000766</td>\n",
       "      <td>0.000000</td>\n",
       "      <td>0.002638</td>\n",
       "      <td>0.001961</td>\n",
       "      <td>0.034615</td>\n",
       "      <td>0.010155</td>\n",
       "      <td>0.191565</td>\n",
       "      <td>0.099113</td>\n",
       "      <td>0.011724</td>\n",
       "    </tr>\n",
       "  </tbody>\n",
       "</table>\n",
       "<p>504 rows × 10 columns</p>\n",
       "</div>"
      ],
      "text/plain": [
       "     State Name  State area   ( Km^2)      Year  State Population  \\\n",
       "0      0.028571              0.476153  1.000000          0.454715   \n",
       "1      0.028571              0.476153  0.923077          0.448904   \n",
       "2      0.028571              0.476153  0.846154          0.443118   \n",
       "3      0.028571              0.476153  0.769231          0.437356   \n",
       "4      0.028571              0.476153  0.692308          0.431619   \n",
       "..          ...                   ...       ...               ...   \n",
       "499    0.742857              0.000766  0.307692          0.002846   \n",
       "500    0.742857              0.000766  0.230769          0.002777   \n",
       "501    0.742857              0.000766  0.153846          0.002708   \n",
       "502    0.742857              0.000766  0.076923          0.002638   \n",
       "503    0.742857              0.000766  0.000000          0.002638   \n",
       "\n",
       "     Total Water Storage in Reservoirs(mcm)  Groundwater Level(mbgl)  \\\n",
       "0                                  0.127063                 0.177567   \n",
       "1                                  0.119422                 0.175903   \n",
       "2                                  0.122640                 0.119321   \n",
       "3                                  0.125319                 0.106673   \n",
       "4                                  0.118027                 0.179730   \n",
       "..                                      ...                      ...   \n",
       "499                                0.002163                 0.279747   \n",
       "500                                0.002045                 0.142453   \n",
       "501                                0.002124                 0.046098   \n",
       "502                                0.002053                 0.070727   \n",
       "503                                0.001961                 0.034615   \n",
       "\n",
       "     Total Water Demand(BCM)  Rain Water(mm)  Population Density(per Km^2)  \\\n",
       "0                   0.613842        0.011458                      0.027351   \n",
       "1                   0.607573        0.084075                      0.026994   \n",
       "2                   0.601304        0.173169                      0.026639   \n",
       "3                   0.595035        0.048931                      0.026285   \n",
       "4                   0.588766        0.120932                      0.025933   \n",
       "..                       ...             ...                           ...   \n",
       "499                 0.010406        0.213297                      0.106171   \n",
       "500                 0.010281        0.207834                      0.103819   \n",
       "501                 0.010281        0.202405                      0.101466   \n",
       "502                 0.010155        0.196988                      0.099113   \n",
       "503                 0.010155        0.191565                      0.099113   \n",
       "\n",
       "     Water Stress Index  \n",
       "0              0.523411  \n",
       "1              0.453313  \n",
       "2              0.458319  \n",
       "3              0.439743  \n",
       "4              0.478071  \n",
       "..                  ...  \n",
       "499            0.135724  \n",
       "500            0.104619  \n",
       "501            0.012368  \n",
       "502            0.012329  \n",
       "503            0.011724  \n",
       "\n",
       "[504 rows x 10 columns]"
      ]
     },
     "execution_count": 9,
     "metadata": {},
     "output_type": "execute_result"
    }
   ],
   "source": [
    "scaler = MinMaxScaler()\n",
    "cols = df.columns\n",
    "\n",
    "for col in cols:\n",
    "    try:\n",
    "        df[col] = df[col].str.replace(',', '').astype(float)\n",
    "    except:\n",
    "        pass\n",
    "for col in cols:\n",
    "    try:\n",
    "#         df[col] = df[col].str.replace(',', '').astype(float)\n",
    "        scaler.fit(df[[col]])\n",
    "        df[col] = scaler.transform(df[[col]])\n",
    "    except:\n",
    "        print(\"got error in \",col)\n",
    "df"
   ]
  },
  {
   "cell_type": "markdown",
   "id": "dda332f0",
   "metadata": {
    "papermill": {
     "duration": 0.013543,
     "end_time": "2024-07-30T10:16:20.802986",
     "exception": false,
     "start_time": "2024-07-30T10:16:20.789443",
     "status": "completed"
    },
    "tags": []
   },
   "source": [
    "# Model Training"
   ]
  },
  {
   "cell_type": "markdown",
   "id": "15885e82",
   "metadata": {
    "papermill": {
     "duration": 0.01363,
     "end_time": "2024-07-30T10:16:20.830501",
     "exception": false,
     "start_time": "2024-07-30T10:16:20.816871",
     "status": "completed"
    },
    "tags": []
   },
   "source": [
    "## Step 1: Let's Split the data into Features and Label\n",
    "* I will save the \"Year\" column separately as we will be requiring that while training LSTM.\n",
    "* For other models the \"Year\" column is not necessary, So I am going to drop that"
   ]
  },
  {
   "cell_type": "code",
   "execution_count": 10,
   "id": "029347f1",
   "metadata": {
    "execution": {
     "iopub.execute_input": "2024-07-30T10:16:20.860437Z",
     "iopub.status.busy": "2024-07-30T10:16:20.859511Z",
     "iopub.status.idle": "2024-07-30T10:16:20.867437Z",
     "shell.execute_reply": "2024-07-30T10:16:20.866398Z"
    },
    "papermill": {
     "duration": 0.025147,
     "end_time": "2024-07-30T10:16:20.869584",
     "exception": false,
     "start_time": "2024-07-30T10:16:20.844437",
     "status": "completed"
    },
    "tags": []
   },
   "outputs": [],
   "source": [
    "year = df['Year']\n",
    "df = df.drop(columns=[\"Year\"])\n",
    "y = df['Water Stress Index']\n",
    "X = df.drop(columns=[\"Water Stress Index\"])"
   ]
  },
  {
   "cell_type": "markdown",
   "id": "b03fd1cd",
   "metadata": {
    "papermill": {
     "duration": 0.014807,
     "end_time": "2024-07-30T10:16:20.898165",
     "exception": false,
     "start_time": "2024-07-30T10:16:20.883358",
     "status": "completed"
    },
    "tags": []
   },
   "source": [
    "## Step 2: Now We will Split the DAta into Train and Test for Both X and y\n",
    "I will be taking 20% of the dataset as the Test data"
   ]
  },
  {
   "cell_type": "code",
   "execution_count": 11,
   "id": "89c6a3fa",
   "metadata": {
    "execution": {
     "iopub.execute_input": "2024-07-30T10:16:20.991005Z",
     "iopub.status.busy": "2024-07-30T10:16:20.990113Z",
     "iopub.status.idle": "2024-07-30T10:16:20.998661Z",
     "shell.execute_reply": "2024-07-30T10:16:20.997628Z"
    },
    "papermill": {
     "duration": 0.025936,
     "end_time": "2024-07-30T10:16:21.000882",
     "exception": false,
     "start_time": "2024-07-30T10:16:20.974946",
     "status": "completed"
    },
    "tags": []
   },
   "outputs": [],
   "source": [
    "X_train,X_test,y_train,y_test = train_test_split(X,y,test_size=0.2)"
   ]
  },
  {
   "cell_type": "markdown",
   "id": "684112cd",
   "metadata": {
    "papermill": {
     "duration": 0.013679,
     "end_time": "2024-07-30T10:16:21.028618",
     "exception": false,
     "start_time": "2024-07-30T10:16:21.014939",
     "status": "completed"
    },
    "tags": []
   },
   "source": [
    "# Model Training\n",
    "In Model Training we will try out various ML models, along with Hyper Parameter Tuning I will also apply Cross Validation on both test and train"
   ]
  },
  {
   "cell_type": "markdown",
   "id": "ee554692",
   "metadata": {
    "papermill": {
     "duration": 0.016549,
     "end_time": "2024-07-30T10:16:21.059156",
     "exception": false,
     "start_time": "2024-07-30T10:16:21.042607",
     "status": "completed"
    },
    "tags": []
   },
   "source": [
    "## 1. Linear Regression"
   ]
  },
  {
   "cell_type": "code",
   "execution_count": 12,
   "id": "baef07ab",
   "metadata": {
    "execution": {
     "iopub.execute_input": "2024-07-30T10:16:21.096630Z",
     "iopub.status.busy": "2024-07-30T10:16:21.096167Z",
     "iopub.status.idle": "2024-07-30T10:16:22.349712Z",
     "shell.execute_reply": "2024-07-30T10:16:22.348339Z"
    },
    "papermill": {
     "duration": 1.276437,
     "end_time": "2024-07-30T10:16:22.352195",
     "exception": false,
     "start_time": "2024-07-30T10:16:21.075758",
     "status": "completed"
    },
    "tags": []
   },
   "outputs": [
    {
     "name": "stdout",
     "output_type": "stream",
     "text": [
      "Cross Validation Score for Train 0.5391753910274918\n",
      "Cross Validation Score for Test 0.6269991152111282\n"
     ]
    }
   ],
   "source": [
    "lr = GridSearchCV(LinearRegression(),{\n",
    "    'fit_intercept':[False,True],\n",
    "#     'normalize':[False,True],\n",
    "    'copy_X':[False,True],}, cv=5, return_train_score=False)\n",
    "lr.fit(X_train,y_train)\n",
    "print(\"Cross Validation Score for Train\",cross_val_score(lr,X_train,y_train).mean())\n",
    "print(\"Cross Validation Score for Test\",cross_val_score(lr,X_test,y_test).mean())"
   ]
  },
  {
   "cell_type": "code",
   "execution_count": 13,
   "id": "f9d961cd",
   "metadata": {
    "execution": {
     "iopub.execute_input": "2024-07-30T10:16:22.383103Z",
     "iopub.status.busy": "2024-07-30T10:16:22.382700Z",
     "iopub.status.idle": "2024-07-30T10:16:22.388413Z",
     "shell.execute_reply": "2024-07-30T10:16:22.387268Z"
    },
    "papermill": {
     "duration": 0.023792,
     "end_time": "2024-07-30T10:16:22.390715",
     "exception": false,
     "start_time": "2024-07-30T10:16:22.366923",
     "status": "completed"
    },
    "tags": []
   },
   "outputs": [
    {
     "name": "stdout",
     "output_type": "stream",
     "text": [
      "Best Parameters: {'copy_X': False, 'fit_intercept': False}\n",
      "Best Score: 0.5503373767893119\n"
     ]
    }
   ],
   "source": [
    "print(\"Best Parameters:\", lr.best_params_)\n",
    "print(\"Best Score:\", lr.best_score_)"
   ]
  },
  {
   "cell_type": "code",
   "execution_count": 14,
   "id": "b076c139",
   "metadata": {
    "execution": {
     "iopub.execute_input": "2024-07-30T10:16:22.421583Z",
     "iopub.status.busy": "2024-07-30T10:16:22.421181Z",
     "iopub.status.idle": "2024-07-30T10:16:22.694145Z",
     "shell.execute_reply": "2024-07-30T10:16:22.693073Z"
    },
    "papermill": {
     "duration": 0.29137,
     "end_time": "2024-07-30T10:16:22.696666",
     "exception": false,
     "start_time": "2024-07-30T10:16:22.405296",
     "status": "completed"
    },
    "tags": []
   },
   "outputs": [
    {
     "name": "stdout",
     "output_type": "stream",
     "text": [
      "Mean Squared Error: 0.015699867796452237\n",
      "Mean Absolute Error: 0.08570290837869383\n",
      "R2 Score: 0.6992405506773266\n"
     ]
    },
    {
     "data": {
      "image/png": "[encoded data removed]",
      "text/plain": [
       "<Figure size 1000x700 with 1 Axes>"
      ]
     },
     "metadata": {},
     "output_type": "display_data"
    }
   ],
   "source": [
    "y_predict = lr.predict(X_test)\n",
    "mse_lr = mean_squared_error(y_test,y_predict)\n",
    "mae_lr = mean_absolute_error(y_test,y_predict)\n",
    "r2_lr = r2_score(y_test,y_predict)\n",
    "\n",
    "print(f\"Mean Squared Error:\",mse_lr)\n",
    "print(f\"Mean Absolute Error:\",mae_lr)\n",
    "print(f\"R2 Score:\",r2_lr)\n",
    "\n",
    "plt.figure(figsize=(10, 7))\n",
    "plt.scatter(y_test,y_predict,alpha=0.5)\n",
    "plt.plot([y_test.min(),y_test.max()],[y_test.min(),y_test.max()],'r--',lw=2)\n",
    "plt.xlabel('Actual')\n",
    "plt.ylabel('Predicted')\n",
    "plt.title('Actual vs Predicted')\n",
    "plt.show()"
   ]
  },
  {
   "cell_type": "markdown",
   "id": "451cc054",
   "metadata": {
    "papermill": {
     "duration": 0.015447,
     "end_time": "2024-07-30T10:16:22.728504",
     "exception": false,
     "start_time": "2024-07-30T10:16:22.713057",
     "status": "completed"
    },
    "tags": []
   },
   "source": [
    "## 2. Linear Regression with L1 Regularization"
   ]
  },
  {
   "cell_type": "code",
   "execution_count": 15,
   "id": "1c89eee7",
   "metadata": {
    "execution": {
     "iopub.execute_input": "2024-07-30T10:16:22.761737Z",
     "iopub.status.busy": "2024-07-30T10:16:22.760864Z",
     "iopub.status.idle": "2024-07-30T10:18:05.903287Z",
     "shell.execute_reply": "2024-07-30T10:18:05.902292Z"
    },
    "papermill": {
     "duration": 103.176347,
     "end_time": "2024-07-30T10:18:05.920566",
     "exception": false,
     "start_time": "2024-07-30T10:16:22.744219",
     "status": "completed"
    },
    "tags": []
   },
   "outputs": [
    {
     "name": "stdout",
     "output_type": "stream",
     "text": [
      "Cross Validation Score for Train -0.009196950710247486\n",
      "Cross Validation Score for Test -0.03185921491665389\n"
     ]
    }
   ],
   "source": [
    "lasso = GridSearchCV(Lasso(tol=0.1),{\n",
    "    'alpha':[i for i in range(1,101)],\n",
    "    'fit_intercept':[False,True],\n",
    "    'copy_X':[False,True],\n",
    "}, cv=5, return_train_score=False)\n",
    "lasso.fit(X_train,y_train)\n",
    "print(\"Cross Validation Score for Train\",cross_val_score(lasso,X_train,y_train).mean())\n",
    "print(\"Cross Validation Score for Test\",cross_val_score(lasso,X_test,y_test).mean())"
   ]
  },
  {
   "cell_type": "code",
   "execution_count": 16,
   "id": "dbef34d7",
   "metadata": {
    "execution": {
     "iopub.execute_input": "2024-07-30T10:18:05.952701Z",
     "iopub.status.busy": "2024-07-30T10:18:05.951939Z",
     "iopub.status.idle": "2024-07-30T10:18:05.957383Z",
     "shell.execute_reply": "2024-07-30T10:18:05.956437Z"
    },
    "papermill": {
     "duration": 0.023793,
     "end_time": "2024-07-30T10:18:05.959443",
     "exception": false,
     "start_time": "2024-07-30T10:18:05.935650",
     "status": "completed"
    },
    "tags": []
   },
   "outputs": [
    {
     "name": "stdout",
     "output_type": "stream",
     "text": [
      "Best Parameters: {'alpha': 1, 'copy_X': False, 'fit_intercept': True}\n",
      "Best Score: -0.009196950710247486\n"
     ]
    }
   ],
   "source": [
    "print(\"Best Parameters:\", lasso.best_params_)\n",
    "print(\"Best Score:\", lasso.best_score_)"
   ]
  },
  {
   "cell_type": "code",
   "execution_count": 17,
   "id": "27632805",
   "metadata": {
    "execution": {
     "iopub.execute_input": "2024-07-30T10:18:05.991764Z",
     "iopub.status.busy": "2024-07-30T10:18:05.990868Z",
     "iopub.status.idle": "2024-07-30T10:18:06.257061Z",
     "shell.execute_reply": "2024-07-30T10:18:06.256016Z"
    },
    "papermill": {
     "duration": 0.284648,
     "end_time": "2024-07-30T10:18:06.259218",
     "exception": false,
     "start_time": "2024-07-30T10:18:05.974570",
     "status": "completed"
    },
    "tags": []
   },
   "outputs": [
    {
     "name": "stdout",
     "output_type": "stream",
     "text": [
      "Mean Squared Error: 0.0524027087884123\n",
      "Mean Absolute Error: 0.19122395396509947\n",
      "R2 Score: -0.0038689524367072625\n"
     ]
    },
    {
     "data": {
      "image/png": "[encoded data removed]",
      "text/plain": [
       "<Figure size 1000x700 with 1 Axes>"
      ]
     },
     "metadata": {},
     "output_type": "display_data"
    }
   ],
   "source": [
    "y_predict = lasso.predict(X_test)\n",
    "mse_lasso = mean_squared_error(y_test,y_predict)\n",
    "mae_lasso = mean_absolute_error(y_test,y_predict)\n",
    "r2_lasso = r2_score(y_test,y_predict)\n",
    "\n",
    "print(f\"Mean Squared Error:\",mse_lasso)\n",
    "print(f\"Mean Absolute Error:\",mae_lasso)\n",
    "print(f\"R2 Score:\",r2_lasso)\n",
    "import matplotlib.pyplot as plt\n",
    "plt.figure(figsize=(10, 7))\n",
    "plt.scatter(y_test,y_predict,alpha=0.5)\n",
    "plt.plot([y_test.min(),y_test.max()],[y_test.min(),y_test.max()],'r--',lw=2)\n",
    "plt.xlabel('Actual')\n",
    "plt.ylabel('Predicted')\n",
    "plt.title('Actual vs Predicted')\n",
    "plt.show()"
   ]
  },
  {
   "cell_type": "markdown",
   "id": "66823d4c",
   "metadata": {
    "papermill": {
     "duration": 0.016036,
     "end_time": "2024-07-30T10:18:06.291235",
     "exception": false,
     "start_time": "2024-07-30T10:18:06.275199",
     "status": "completed"
    },
    "tags": []
   },
   "source": [
    "## 3. Linear Regression with L2 Regularization"
   ]
  },
  {
   "cell_type": "code",
   "execution_count": 18,
   "id": "8c798457",
   "metadata": {
    "execution": {
     "iopub.execute_input": "2024-07-30T10:18:06.325112Z",
     "iopub.status.busy": "2024-07-30T10:18:06.324714Z",
     "iopub.status.idle": "2024-07-30T10:19:46.122798Z",
     "shell.execute_reply": "2024-07-30T10:19:46.121783Z"
    },
    "papermill": {
     "duration": 99.833421,
     "end_time": "2024-07-30T10:19:46.140836",
     "exception": false,
     "start_time": "2024-07-30T10:18:06.307415",
     "status": "completed"
    },
    "tags": []
   },
   "outputs": [
    {
     "name": "stdout",
     "output_type": "stream",
     "text": [
      "Cross Validation Score for Train 0.5537551699960951\n",
      "Cross Validation Score for Test 0.5925951301153527\n"
     ]
    }
   ],
   "source": [
    "ridge = GridSearchCV(Ridge(tol=0.1),{\n",
    "    'alpha':[i for i in range(1,101)],\n",
    "    'fit_intercept':[False,True],\n",
    "    'copy_X':[False,True],\n",
    "}, cv=5, return_train_score=False)\n",
    "ridge.fit(X_train,y_train)\n",
    "print(\"Cross Validation Score for Train\",cross_val_score(ridge,X_train,y_train).mean())\n",
    "print(\"Cross Validation Score for Test\",cross_val_score(ridge,X_test,y_test).mean())"
   ]
  },
  {
   "cell_type": "code",
   "execution_count": 19,
   "id": "9f25e9a0",
   "metadata": {
    "execution": {
     "iopub.execute_input": "2024-07-30T10:19:46.175272Z",
     "iopub.status.busy": "2024-07-30T10:19:46.174564Z",
     "iopub.status.idle": "2024-07-30T10:19:46.179841Z",
     "shell.execute_reply": "2024-07-30T10:19:46.178855Z"
    },
    "papermill": {
     "duration": 0.025494,
     "end_time": "2024-07-30T10:19:46.182353",
     "exception": false,
     "start_time": "2024-07-30T10:19:46.156859",
     "status": "completed"
    },
    "tags": []
   },
   "outputs": [
    {
     "name": "stdout",
     "output_type": "stream",
     "text": [
      "Best Parameters: {'alpha': 1, 'copy_X': False, 'fit_intercept': False}\n",
      "Best Score: 0.5605932168205868\n"
     ]
    }
   ],
   "source": [
    "print(\"Best Parameters:\", ridge.best_params_)\n",
    "print(\"Best Score:\", ridge.best_score_)"
   ]
  },
  {
   "cell_type": "code",
   "execution_count": 20,
   "id": "e8f8fd22",
   "metadata": {
    "execution": {
     "iopub.execute_input": "2024-07-30T10:19:46.216608Z",
     "iopub.status.busy": "2024-07-30T10:19:46.215951Z",
     "iopub.status.idle": "2024-07-30T10:19:46.486125Z",
     "shell.execute_reply": "2024-07-30T10:19:46.485161Z"
    },
    "papermill": {
     "duration": 0.29035,
     "end_time": "2024-07-30T10:19:46.488890",
     "exception": false,
     "start_time": "2024-07-30T10:19:46.198540",
     "status": "completed"
    },
    "tags": []
   },
   "outputs": [
    {
     "name": "stdout",
     "output_type": "stream",
     "text": [
      "Mean Squared Error: 0.017232700710291718\n",
      "Mean Absolute Error: 0.0919313106289467\n",
      "R2 Score: 0.6698763554467012\n"
     ]
    },
    {
     "data": {
      "image/png": "[encoded data removed]",
      "text/plain": [
       "<Figure size 1000x700 with 1 Axes>"
      ]
     },
     "metadata": {},
     "output_type": "display_data"
    }
   ],
   "source": [
    "y_predict = ridge.predict(X_test)\n",
    "mse_ridge = mean_squared_error(y_test,y_predict)\n",
    "mae_ridge = mean_absolute_error(y_test,y_predict)\n",
    "r2_ridge = r2_score(y_test,y_predict)\n",
    "\n",
    "print(f\"Mean Squared Error:\",mse_ridge)\n",
    "print(f\"Mean Absolute Error:\",mae_ridge)\n",
    "print(f\"R2 Score:\",r2_ridge)\n",
    "import matplotlib.pyplot as plt\n",
    "plt.figure(figsize=(10, 7))\n",
    "plt.scatter(y_test,y_predict,alpha=0.5)\n",
    "plt.plot([y_test.min(),y_test.max()],[y_test.min(),y_test.max()],'r--',lw=2)\n",
    "plt.xlabel('Actual')\n",
    "plt.ylabel('Predicted')\n",
    "plt.title('Actual vs Predicted')\n",
    "plt.show()"
   ]
  },
  {
   "cell_type": "markdown",
   "id": "8231945d",
   "metadata": {
    "papermill": {
     "duration": 0.017058,
     "end_time": "2024-07-30T10:19:46.523004",
     "exception": false,
     "start_time": "2024-07-30T10:19:46.505946",
     "status": "completed"
    },
    "tags": []
   },
   "source": [
    "## 4. ElasticNet"
   ]
  },
  {
   "cell_type": "code",
   "execution_count": 21,
   "id": "60c6f067",
   "metadata": {
    "execution": {
     "iopub.execute_input": "2024-07-30T10:19:46.559554Z",
     "iopub.status.busy": "2024-07-30T10:19:46.559152Z",
     "iopub.status.idle": "2024-07-30T10:21:17.748294Z",
     "shell.execute_reply": "2024-07-30T10:21:17.747018Z"
    },
    "papermill": {
     "duration": 91.210336,
     "end_time": "2024-07-30T10:21:17.750631",
     "exception": false,
     "start_time": "2024-07-30T10:19:46.540295",
     "status": "completed"
    },
    "tags": []
   },
   "outputs": [
    {
     "name": "stdout",
     "output_type": "stream",
     "text": [
      "Cross Validation Score for Train 0.5423101914863033\n",
      "Cross Validation Score for Test 0.5821066330901157\n"
     ]
    }
   ],
   "source": [
    "elastic = ElasticNet(random_state=0)\n",
    "elastic.fit(X_train,y_train)\n",
    "elastic.score(X_test,y_test)\n",
    "\n",
    "elastic = GridSearchCV(ElasticNet(random_state=0),{\n",
    "    'alpha': [0.01, 0.1, 1, 10, 100],\n",
    "    'l1_ratio': [0.1, 0.3, 0.5, 0.7, 0.9],\n",
    "    'max_iter': [1000, 5000, 10000],\n",
    "    'tol': [1e-4, 1e-3, 1e-2]}, cv=5, return_train_score=False)\n",
    "elastic.fit(X_train,y_train)\n",
    "cross_val_score(elastic,X_train,y_train).mean()\n",
    "print(\"Cross Validation Score for Train\",cross_val_score(elastic,X_train,y_train).mean())\n",
    "print(\"Cross Validation Score for Test\",cross_val_score(elastic,X_test,y_test).mean())"
   ]
  },
  {
   "cell_type": "code",
   "execution_count": 22,
   "id": "3efba088",
   "metadata": {
    "execution": {
     "iopub.execute_input": "2024-07-30T10:21:17.787216Z",
     "iopub.status.busy": "2024-07-30T10:21:17.786822Z",
     "iopub.status.idle": "2024-07-30T10:21:17.792420Z",
     "shell.execute_reply": "2024-07-30T10:21:17.791320Z"
    },
    "papermill": {
     "duration": 0.026811,
     "end_time": "2024-07-30T10:21:17.794889",
     "exception": false,
     "start_time": "2024-07-30T10:21:17.768078",
     "status": "completed"
    },
    "tags": []
   },
   "outputs": [
    {
     "name": "stdout",
     "output_type": "stream",
     "text": [
      "Best Parameters: {'alpha': 0.01, 'l1_ratio': 0.1, 'max_iter': 1000, 'tol': 0.01}\n",
      "Best Score: 0.5422362694842737\n"
     ]
    }
   ],
   "source": [
    "print(\"Best Parameters:\", elastic.best_params_)\n",
    "print(\"Best Score:\", elastic.best_score_)"
   ]
  },
  {
   "cell_type": "code",
   "execution_count": 23,
   "id": "1e1fbb04",
   "metadata": {
    "execution": {
     "iopub.execute_input": "2024-07-30T10:21:17.831624Z",
     "iopub.status.busy": "2024-07-30T10:21:17.830904Z",
     "iopub.status.idle": "2024-07-30T10:21:18.061203Z",
     "shell.execute_reply": "2024-07-30T10:21:18.060110Z"
    },
    "papermill": {
     "duration": 0.251331,
     "end_time": "2024-07-30T10:21:18.063599",
     "exception": false,
     "start_time": "2024-07-30T10:21:17.812268",
     "status": "completed"
    },
    "tags": []
   },
   "outputs": [
    {
     "name": "stdout",
     "output_type": "stream",
     "text": [
      "Mean Squared Error: 0.021196862083744536\n",
      "Mean Absolute Error: 0.10697939872647323\n",
      "R2 Score: 0.5939356528138229\n"
     ]
    },
    {
     "data": {
      "image/png": "[encoded data removed]",
      "text/plain": [
       "<Figure size 1000x700 with 1 Axes>"
      ]
     },
     "metadata": {},
     "output_type": "display_data"
    }
   ],
   "source": [
    "y_predict = elastic.predict(X_test)\n",
    "mse_elastic = mean_squared_error(y_test,y_predict)\n",
    "mae_elastic = mean_absolute_error(y_test,y_predict)\n",
    "r2_elastic = r2_score(y_test,y_predict)\n",
    "\n",
    "print(f\"Mean Squared Error:\",mse_elastic)\n",
    "print(f\"Mean Absolute Error:\",mae_elastic)\n",
    "print(f\"R2 Score:\",r2_elastic)\n",
    "import matplotlib.pyplot as plt\n",
    "plt.figure(figsize=(10, 7))\n",
    "plt.scatter(y_test,y_predict,alpha=0.5)\n",
    "plt.plot([y_test.min(),y_test.max()],[y_test.min(),y_test.max()],'r--',lw=2)\n",
    "plt.xlabel('Actual')\n",
    "plt.ylabel('Predicted')\n",
    "plt.title('Actual vs Predicted')\n",
    "plt.show()"
   ]
  },
  {
   "cell_type": "markdown",
   "id": "56f4a8a8",
   "metadata": {
    "papermill": {
     "duration": 0.018098,
     "end_time": "2024-07-30T10:21:18.100032",
     "exception": false,
     "start_time": "2024-07-30T10:21:18.081934",
     "status": "completed"
    },
    "tags": []
   },
   "source": [
    "## 5. Support Vector Regression"
   ]
  },
  {
   "cell_type": "code",
   "execution_count": 24,
   "id": "b3e58bfa",
   "metadata": {
    "execution": {
     "iopub.execute_input": "2024-07-30T10:21:18.139953Z",
     "iopub.status.busy": "2024-07-30T10:21:18.138892Z",
     "iopub.status.idle": "2024-07-30T10:21:23.148008Z",
     "shell.execute_reply": "2024-07-30T10:21:23.146879Z"
    },
    "papermill": {
     "duration": 5.032324,
     "end_time": "2024-07-30T10:21:23.150482",
     "exception": false,
     "start_time": "2024-07-30T10:21:18.118158",
     "status": "completed"
    },
    "tags": []
   },
   "outputs": [
    {
     "name": "stdout",
     "output_type": "stream",
     "text": [
      "Cross Validation Score for Train 0.729558927128708\n",
      "Cross Validation Score for Test 0.6075150864283122\n"
     ]
    }
   ],
   "source": [
    "svr = GridSearchCV(SVR(),{\n",
    "    'kernel':['linear','poly','rbf','sigmoid'],\n",
    "    'gamma':['scale', 'auto'],\n",
    "}, cv=5, return_train_score=False)\n",
    "svr.fit(X_train,y_train)\n",
    "cross_val_score(svr,X_train,y_train).mean()\n",
    "print(\"Cross Validation Score for Train\",cross_val_score(svr,X_train,y_train).mean())\n",
    "print(\"Cross Validation Score for Test\",cross_val_score(svr,X_test,y_test).mean())"
   ]
  },
  {
   "cell_type": "code",
   "execution_count": 25,
   "id": "517cecdc",
   "metadata": {
    "execution": {
     "iopub.execute_input": "2024-07-30T10:21:23.190774Z",
     "iopub.status.busy": "2024-07-30T10:21:23.190411Z",
     "iopub.status.idle": "2024-07-30T10:21:23.195507Z",
     "shell.execute_reply": "2024-07-30T10:21:23.194528Z"
    },
    "papermill": {
     "duration": 0.027749,
     "end_time": "2024-07-30T10:21:23.198238",
     "exception": false,
     "start_time": "2024-07-30T10:21:23.170489",
     "status": "completed"
    },
    "tags": []
   },
   "outputs": [
    {
     "name": "stdout",
     "output_type": "stream",
     "text": [
      "Best Parameters: {'gamma': 'scale', 'kernel': 'rbf'}\n",
      "Best Score: 0.729558927128708\n"
     ]
    }
   ],
   "source": [
    "print(\"Best Parameters:\", svr.best_params_)\n",
    "print(\"Best Score:\", svr.best_score_)"
   ]
  },
  {
   "cell_type": "code",
   "execution_count": 26,
   "id": "141f8b60",
   "metadata": {
    "execution": {
     "iopub.execute_input": "2024-07-30T10:21:23.237218Z",
     "iopub.status.busy": "2024-07-30T10:21:23.236824Z",
     "iopub.status.idle": "2024-07-30T10:21:23.504699Z",
     "shell.execute_reply": "2024-07-30T10:21:23.503402Z"
    },
    "papermill": {
     "duration": 0.29057,
     "end_time": "2024-07-30T10:21:23.507331",
     "exception": false,
     "start_time": "2024-07-30T10:21:23.216761",
     "status": "completed"
    },
    "tags": []
   },
   "outputs": [
    {
     "name": "stdout",
     "output_type": "stream",
     "text": [
      "Mean Squared Error: 0.010641829256125087\n",
      "Mean Absolute Error: 0.08165335741357319\n",
      "R2 Score: 0.7961364548826738\n"
     ]
    },
    {
     "data": {
      "image/png": "[encoded data removed]",
      "text/plain": [
       "<Figure size 1000x700 with 1 Axes>"
      ]
     },
     "metadata": {},
     "output_type": "display_data"
    }
   ],
   "source": [
    "y_predict = svr.predict(X_test)\n",
    "mse_svr = mean_squared_error(y_test,y_predict)\n",
    "mae_svr = mean_absolute_error(y_test,y_predict)\n",
    "r2_svr = r2_score(y_test,y_predict)\n",
    "\n",
    "print(f\"Mean Squared Error:\",mse_svr)\n",
    "print(f\"Mean Absolute Error:\",mae_svr)\n",
    "print(f\"R2 Score:\",r2_svr)\n",
    "import matplotlib.pyplot as plt\n",
    "plt.figure(figsize=(10, 7))\n",
    "plt.scatter(y_test,y_predict,alpha=0.5)\n",
    "plt.plot([y_test.min(),y_test.max()],[y_test.min(),y_test.max()],'r--',lw=2)\n",
    "plt.xlabel('Actual')\n",
    "plt.ylabel('Predicted')\n",
    "plt.title('Actual vs Predicted')\n",
    "plt.show()"
   ]
  },
  {
   "cell_type": "markdown",
   "id": "e8795116",
   "metadata": {
    "papermill": {
     "duration": 0.01891,
     "end_time": "2024-07-30T10:21:23.545833",
     "exception": false,
     "start_time": "2024-07-30T10:21:23.526923",
     "status": "completed"
    },
    "tags": []
   },
   "source": [
    "## 6. Random Forest Regressor"
   ]
  },
  {
   "cell_type": "code",
   "execution_count": 27,
   "id": "0b4d385a",
   "metadata": {
    "execution": {
     "iopub.execute_input": "2024-07-30T10:21:23.587204Z",
     "iopub.status.busy": "2024-07-30T10:21:23.586804Z",
     "iopub.status.idle": "2024-07-30T11:16:49.598285Z",
     "shell.execute_reply": "2024-07-30T11:16:49.597093Z"
    },
    "papermill": {
     "duration": 3326.054839,
     "end_time": "2024-07-30T11:16:49.619975",
     "exception": false,
     "start_time": "2024-07-30T10:21:23.565136",
     "status": "completed"
    },
    "tags": []
   },
   "outputs": [
    {
     "name": "stdout",
     "output_type": "stream",
     "text": [
      "Cross Validation Score for Train 0.9450171208198267\n",
      "Cross Validation Score for Test 0.6315380105017474\n",
      "Time Taken : 3326.004932641983\n"
     ]
    }
   ],
   "source": [
    "start = time.time()\n",
    "rfr = GridSearchCV(RandomForestRegressor(),{\n",
    "    'n_estimators':[i for i in range(100,1100,100)],\n",
    "    'criterion':['squared_error', 'absolute_error', 'friedman_mse', 'poisson'],\n",
    "    \n",
    "}, cv=5, return_train_score=False)\n",
    "rfr.fit(X_train,y_train)\n",
    "print(\"Cross Validation Score for Train\",cross_val_score(rfr,X_train,y_train).mean())\n",
    "print(\"Cross Validation Score for Test\",cross_val_score(rfr,X_test,y_test).mean())\n",
    "print(\"Time Taken :\",time.time()-start)"
   ]
  },
  {
   "cell_type": "code",
   "execution_count": 28,
   "id": "8e37bce6",
   "metadata": {
    "execution": {
     "iopub.execute_input": "2024-07-30T11:16:49.660172Z",
     "iopub.status.busy": "2024-07-30T11:16:49.659767Z",
     "iopub.status.idle": "2024-07-30T11:16:49.665019Z",
     "shell.execute_reply": "2024-07-30T11:16:49.664019Z"
    },
    "papermill": {
     "duration": 0.028703,
     "end_time": "2024-07-30T11:16:49.667946",
     "exception": false,
     "start_time": "2024-07-30T11:16:49.639243",
     "status": "completed"
    },
    "tags": []
   },
   "outputs": [
    {
     "name": "stdout",
     "output_type": "stream",
     "text": [
      "Best Parameters: {'criterion': 'poisson', 'n_estimators': 100}\n",
      "Best Score: 0.9452621543502033\n"
     ]
    }
   ],
   "source": [
    "print(\"Best Parameters:\", rfr.best_params_)\n",
    "print(\"Best Score:\", rfr.best_score_)"
   ]
  },
  {
   "cell_type": "code",
   "execution_count": 29,
   "id": "1a709f63",
   "metadata": {
    "execution": {
     "iopub.execute_input": "2024-07-30T11:16:49.708626Z",
     "iopub.status.busy": "2024-07-30T11:16:49.707990Z",
     "iopub.status.idle": "2024-07-30T11:16:49.947738Z",
     "shell.execute_reply": "2024-07-30T11:16:49.946599Z"
    },
    "papermill": {
     "duration": 0.262917,
     "end_time": "2024-07-30T11:16:49.950318",
     "exception": false,
     "start_time": "2024-07-30T11:16:49.687401",
     "status": "completed"
    },
    "tags": []
   },
   "outputs": [
    {
     "name": "stdout",
     "output_type": "stream",
     "text": [
      "Mean Squared Error: 0.004107282141691873\n",
      "Mean Absolute Error: 0.026718197601492015\n",
      "R2 Score: 0.9213175594110897\n"
     ]
    },
    {
     "data": {
      "image/png": "[encoded data removed]",
      "text/plain": [
       "<Figure size 1000x700 with 1 Axes>"
      ]
     },
     "metadata": {},
     "output_type": "display_data"
    }
   ],
   "source": [
    "y_predict = rfr.predict(X_test)\n",
    "mse_rfr = mean_squared_error(y_test,y_predict)\n",
    "mae_rfr = mean_absolute_error(y_test,y_predict)\n",
    "r2_rfr = r2_score(y_test,y_predict)\n",
    "\n",
    "print(f\"Mean Squared Error:\",mse_rfr)\n",
    "print(f\"Mean Absolute Error:\",mae_rfr)\n",
    "print(f\"R2 Score:\",r2_rfr)\n",
    "import matplotlib.pyplot as plt\n",
    "plt.figure(figsize=(10, 7))\n",
    "plt.scatter(y_test,y_predict,alpha=0.5)\n",
    "plt.plot([y_test.min(),y_test.max()],[y_test.min(),y_test.max()],'r--',lw=2)\n",
    "plt.xlabel('Actual')\n",
    "plt.ylabel('Predicted')\n",
    "plt.title('Actual vs Predicted')\n",
    "plt.show()"
   ]
  },
  {
   "cell_type": "markdown",
   "id": "ea79e272",
   "metadata": {
    "papermill": {
     "duration": 0.020823,
     "end_time": "2024-07-30T11:16:49.991590",
     "exception": false,
     "start_time": "2024-07-30T11:16:49.970767",
     "status": "completed"
    },
    "tags": []
   },
   "source": [
    "## 7. XG Boost"
   ]
  },
  {
   "cell_type": "code",
   "execution_count": 30,
   "id": "7fea43d4",
   "metadata": {
    "execution": {
     "iopub.execute_input": "2024-07-30T11:16:50.034476Z",
     "iopub.status.busy": "2024-07-30T11:16:50.034031Z",
     "iopub.status.idle": "2024-07-30T11:16:50.411006Z",
     "shell.execute_reply": "2024-07-30T11:16:50.409761Z"
    },
    "papermill": {
     "duration": 0.401827,
     "end_time": "2024-07-30T11:16:50.413803",
     "exception": false,
     "start_time": "2024-07-30T11:16:50.011976",
     "status": "completed"
    },
    "tags": []
   },
   "outputs": [
    {
     "name": "stderr",
     "output_type": "stream",
     "text": [
      "/opt/conda/lib/python3.10/site-packages/xgboost/core.py:160: UserWarning: [11:16:50] WARNING: /workspace/src/objective/regression_obj.cu:209: reg:linear is now deprecated in favor of reg:squarederror.\n",
      "  warnings.warn(smsg, UserWarning)\n",
      "/opt/conda/lib/python3.10/site-packages/xgboost/core.py:160: UserWarning: [11:16:50] WARNING: /workspace/src/learner.cc:742: \n",
      "Parameters: { \"feature_selector\" } are not used.\n",
      "\n",
      "  warnings.warn(smsg, UserWarning)\n"
     ]
    },
    {
     "name": "stdout",
     "output_type": "stream",
     "text": [
      "Test Score 0.8871002452261989\n",
      "Mean Squared Error: 0.005893451488198781\n",
      "Mean Absolute Error: 0.03253883157289469\n",
      "R2 Score: 0.8871002452261989\n"
     ]
    },
    {
     "data": {
      "image/png": "[encoded data removed]",
      "text/plain": [
       "<Figure size 1000x700 with 1 Axes>"
      ]
     },
     "metadata": {},
     "output_type": "display_data"
    }
   ],
   "source": [
    "xgb_reg = xgb.XGBRegressor(objective=\"reg:linear\", random_state=42,feature_selector='shuffle')\n",
    "xgb_reg.fit(X_train, y_train)\n",
    "# print(\"Cross Validation Score for Train\",cross_val_score(xgb,X_train,y_train).mean())\n",
    "# print(\"Cross Validation Score for Test\",cross_val_score(xgb,X_test,y_test).mean())\n",
    "\n",
    "print(f\"Test Score\",xgb_reg.score(X_test,y_test))\n",
    "\n",
    "y_predict = xgb_reg.predict(X_test)\n",
    "mse_xgb = mean_squared_error(y_test,y_predict)\n",
    "mae_xgb = mean_absolute_error(y_test,y_predict)\n",
    "r2_xgb = r2_score(y_test,y_predict)\n",
    "\n",
    "print(f\"Mean Squared Error:\",mse_xgb)\n",
    "print(f\"Mean Absolute Error:\",mae_xgb)\n",
    "print(f\"R2 Score:\",r2_xgb)\n",
    "import matplotlib.pyplot as plt\n",
    "plt.figure(figsize=(10, 7))\n",
    "plt.scatter(y_test,y_predict,alpha=0.5)\n",
    "plt.plot([y_test.min(),y_test.max()],[y_test.min(),y_test.max()],'r--',lw=2)\n",
    "plt.xlabel('Actual')\n",
    "plt.ylabel('Predicted')\n",
    "plt.title('Actual vs Predicted')\n",
    "plt.show()"
   ]
  },
  {
   "cell_type": "markdown",
   "id": "5d7cfe0d",
   "metadata": {
    "papermill": {
     "duration": 0.020762,
     "end_time": "2024-07-30T11:16:50.457386",
     "exception": false,
     "start_time": "2024-07-30T11:16:50.436624",
     "status": "completed"
    },
    "tags": []
   },
   "source": [
    "## 8. Long Short Term Memory RNN for Time Series Based Model Training\n",
    "I will proceed to reattach the \"Year\" column and reshape X,y suitable for training LSTM"
   ]
  },
  {
   "cell_type": "code",
   "execution_count": 31,
   "id": "871f3f92",
   "metadata": {
    "execution": {
     "iopub.execute_input": "2024-07-30T11:16:50.502135Z",
     "iopub.status.busy": "2024-07-30T11:16:50.501068Z",
     "iopub.status.idle": "2024-07-30T11:16:50.510513Z",
     "shell.execute_reply": "2024-07-30T11:16:50.509462Z"
    },
    "papermill": {
     "duration": 0.034369,
     "end_time": "2024-07-30T11:16:50.513019",
     "exception": false,
     "start_time": "2024-07-30T11:16:50.478650",
     "status": "completed"
    },
    "tags": []
   },
   "outputs": [],
   "source": [
    "X = pd.concat([X,year],axis=1)\n",
    "from sklearn.model_selection import train_test_split\n",
    "X_train,X_test,y_train,y_test = train_test_split(X,y,test_size=0.2)"
   ]
  },
  {
   "cell_type": "code",
   "execution_count": 32,
   "id": "578c7bdd",
   "metadata": {
    "execution": {
     "iopub.execute_input": "2024-07-30T11:16:50.557115Z",
     "iopub.status.busy": "2024-07-30T11:16:50.556716Z",
     "iopub.status.idle": "2024-07-30T11:16:50.723801Z",
     "shell.execute_reply": "2024-07-30T11:16:50.722621Z"
    },
    "papermill": {
     "duration": 0.192652,
     "end_time": "2024-07-30T11:16:50.726587",
     "exception": false,
     "start_time": "2024-07-30T11:16:50.533935",
     "status": "completed"
    },
    "tags": []
   },
   "outputs": [
    {
     "name": "stderr",
     "output_type": "stream",
     "text": [
      "/opt/conda/lib/python3.10/site-packages/keras/src/layers/rnn/rnn.py:204: UserWarning: Do not pass an `input_shape`/`input_dim` argument to a layer. When using Sequential models, prefer using an `Input(shape)` object as the first layer in the model instead.\n",
      "  super().__init__(**kwargs)\n"
     ]
    }
   ],
   "source": [
    "X_train = np.array(X_train)\n",
    "X_test = np.array(X_test)\n",
    "y_train = np.array(y_train)\n",
    "y_test = np.array(y_test)\n",
    "\n",
    "X_train = np.reshape(X_train, (X_train.shape[0], 1, X_train.shape[1]))\n",
    "X_test = np.reshape(X_test, (X_test.shape[0], 1, X_test.shape[1]))\n",
    "\n",
    "model = Sequential()\n",
    "model.add(LSTM(50, return_sequences=True, input_shape=(X_train.shape[1], X_train.shape[2])))\n",
    "model.add(LSTM(50, return_sequences=False))\n",
    "model.add(Dense(25))\n",
    "model.add(Dense(1))\n",
    "\n",
    "model.compile(optimizer='adam', loss='mean_squared_error')"
   ]
  },
  {
   "cell_type": "code",
   "execution_count": 33,
   "id": "959e60f1",
   "metadata": {
    "execution": {
     "iopub.execute_input": "2024-07-30T11:16:50.770814Z",
     "iopub.status.busy": "2024-07-30T11:16:50.770169Z",
     "iopub.status.idle": "2024-07-30T11:17:00.019851Z",
     "shell.execute_reply": "2024-07-30T11:17:00.018740Z"
    },
    "papermill": {
     "duration": 9.274831,
     "end_time": "2024-07-30T11:17:00.022404",
     "exception": false,
     "start_time": "2024-07-30T11:16:50.747573",
     "status": "completed"
    },
    "tags": []
   },
   "outputs": [
    {
     "name": "stdout",
     "output_type": "stream",
     "text": [
      "Epoch 1/50\n",
      "\u001b[1m13/13\u001b[0m \u001b[32m━━━━━━━━━━━━━━━━━━━━\u001b[0m\u001b[37m\u001b[0m \u001b[1m4s\u001b[0m 40ms/step - loss: 0.0759 - val_loss: 0.0383\n",
      "Epoch 2/50\n",
      "\u001b[1m13/13\u001b[0m \u001b[32m━━━━━━━━━━━━━━━━━━━━\u001b[0m\u001b[37m\u001b[0m \u001b[1m0s\u001b[0m 6ms/step - loss: 0.0461 - val_loss: 0.0334\n",
      "Epoch 3/50\n",
      "\u001b[1m13/13\u001b[0m \u001b[32m━━━━━━━━━━━━━━━━━━━━\u001b[0m\u001b[37m\u001b[0m \u001b[1m0s\u001b[0m 6ms/step - loss: 0.0367 - val_loss: 0.0259\n",
      "Epoch 4/50\n",
      "\u001b[1m13/13\u001b[0m \u001b[32m━━━━━━━━━━━━━━━━━━━━\u001b[0m\u001b[37m\u001b[0m \u001b[1m0s\u001b[0m 6ms/step - loss: 0.0283 - val_loss: 0.0198\n",
      "Epoch 5/50\n",
      "\u001b[1m13/13\u001b[0m \u001b[32m━━━━━━━━━━━━━━━━━━━━\u001b[0m\u001b[37m\u001b[0m \u001b[1m0s\u001b[0m 6ms/step - loss: 0.0221 - val_loss: 0.0172\n",
      "Epoch 6/50\n",
      "\u001b[1m13/13\u001b[0m \u001b[32m━━━━━━━━━━━━━━━━━━━━\u001b[0m\u001b[37m\u001b[0m \u001b[1m0s\u001b[0m 6ms/step - loss: 0.0203 - val_loss: 0.0166\n",
      "Epoch 7/50\n",
      "\u001b[1m13/13\u001b[0m \u001b[32m━━━━━━━━━━━━━━━━━━━━\u001b[0m\u001b[37m\u001b[0m \u001b[1m0s\u001b[0m 5ms/step - loss: 0.0203 - val_loss: 0.0164\n",
      "Epoch 8/50\n",
      "\u001b[1m13/13\u001b[0m \u001b[32m━━━━━━━━━━━━━━━━━━━━\u001b[0m\u001b[37m\u001b[0m \u001b[1m0s\u001b[0m 6ms/step - loss: 0.0200 - val_loss: 0.0169\n",
      "Epoch 9/50\n",
      "\u001b[1m13/13\u001b[0m \u001b[32m━━━━━━━━━━━━━━━━━━━━\u001b[0m\u001b[37m\u001b[0m \u001b[1m0s\u001b[0m 6ms/step - loss: 0.0221 - val_loss: 0.0164\n",
      "Epoch 10/50\n",
      "\u001b[1m13/13\u001b[0m \u001b[32m━━━━━━━━━━━━━━━━━━━━\u001b[0m\u001b[37m\u001b[0m \u001b[1m0s\u001b[0m 6ms/step - loss: 0.0203 - val_loss: 0.0157\n",
      "Epoch 11/50\n",
      "\u001b[1m13/13\u001b[0m \u001b[32m━━━━━━━━━━━━━━━━━━━━\u001b[0m\u001b[37m\u001b[0m \u001b[1m0s\u001b[0m 6ms/step - loss: 0.0202 - val_loss: 0.0159\n",
      "Epoch 12/50\n",
      "\u001b[1m13/13\u001b[0m \u001b[32m━━━━━━━━━━━━━━━━━━━━\u001b[0m\u001b[37m\u001b[0m \u001b[1m0s\u001b[0m 6ms/step - loss: 0.0190 - val_loss: 0.0157\n",
      "Epoch 13/50\n",
      "\u001b[1m13/13\u001b[0m \u001b[32m━━━━━━━━━━━━━━━━━━━━\u001b[0m\u001b[37m\u001b[0m \u001b[1m0s\u001b[0m 6ms/step - loss: 0.0190 - val_loss: 0.0154\n",
      "Epoch 14/50\n",
      "\u001b[1m13/13\u001b[0m \u001b[32m━━━━━━━━━━━━━━━━━━━━\u001b[0m\u001b[37m\u001b[0m \u001b[1m0s\u001b[0m 6ms/step - loss: 0.0196 - val_loss: 0.0155\n",
      "Epoch 15/50\n",
      "\u001b[1m13/13\u001b[0m \u001b[32m━━━━━━━━━━━━━━━━━━━━\u001b[0m\u001b[37m\u001b[0m \u001b[1m0s\u001b[0m 6ms/step - loss: 0.0206 - val_loss: 0.0158\n",
      "Epoch 16/50\n",
      "\u001b[1m13/13\u001b[0m \u001b[32m━━━━━━━━━━━━━━━━━━━━\u001b[0m\u001b[37m\u001b[0m \u001b[1m0s\u001b[0m 6ms/step - loss: 0.0218 - val_loss: 0.0151\n",
      "Epoch 17/50\n",
      "\u001b[1m13/13\u001b[0m \u001b[32m━━━━━━━━━━━━━━━━━━━━\u001b[0m\u001b[37m\u001b[0m \u001b[1m0s\u001b[0m 6ms/step - loss: 0.0179 - val_loss: 0.0151\n",
      "Epoch 18/50\n",
      "\u001b[1m13/13\u001b[0m \u001b[32m━━━━━━━━━━━━━━━━━━━━\u001b[0m\u001b[37m\u001b[0m \u001b[1m0s\u001b[0m 6ms/step - loss: 0.0193 - val_loss: 0.0150\n",
      "Epoch 19/50\n",
      "\u001b[1m13/13\u001b[0m \u001b[32m━━━━━━━━━━━━━━━━━━━━\u001b[0m\u001b[37m\u001b[0m \u001b[1m0s\u001b[0m 6ms/step - loss: 0.0196 - val_loss: 0.0157\n",
      "Epoch 20/50\n",
      "\u001b[1m13/13\u001b[0m \u001b[32m━━━━━━━━━━━━━━━━━━━━\u001b[0m\u001b[37m\u001b[0m \u001b[1m0s\u001b[0m 6ms/step - loss: 0.0186 - val_loss: 0.0148\n",
      "Epoch 21/50\n",
      "\u001b[1m13/13\u001b[0m \u001b[32m━━━━━━━━━━━━━━━━━━━━\u001b[0m\u001b[37m\u001b[0m \u001b[1m0s\u001b[0m 6ms/step - loss: 0.0205 - val_loss: 0.0151\n",
      "Epoch 22/50\n",
      "\u001b[1m13/13\u001b[0m \u001b[32m━━━━━━━━━━━━━━━━━━━━\u001b[0m\u001b[37m\u001b[0m \u001b[1m0s\u001b[0m 6ms/step - loss: 0.0167 - val_loss: 0.0152\n",
      "Epoch 23/50\n",
      "\u001b[1m13/13\u001b[0m \u001b[32m━━━━━━━━━━━━━━━━━━━━\u001b[0m\u001b[37m\u001b[0m \u001b[1m0s\u001b[0m 6ms/step - loss: 0.0173 - val_loss: 0.0147\n",
      "Epoch 24/50\n",
      "\u001b[1m13/13\u001b[0m \u001b[32m━━━━━━━━━━━━━━━━━━━━\u001b[0m\u001b[37m\u001b[0m \u001b[1m0s\u001b[0m 6ms/step - loss: 0.0177 - val_loss: 0.0147\n",
      "Epoch 25/50\n",
      "\u001b[1m13/13\u001b[0m \u001b[32m━━━━━━━━━━━━━━━━━━━━\u001b[0m\u001b[37m\u001b[0m \u001b[1m0s\u001b[0m 6ms/step - loss: 0.0215 - val_loss: 0.0146\n",
      "Epoch 26/50\n",
      "\u001b[1m13/13\u001b[0m \u001b[32m━━━━━━━━━━━━━━━━━━━━\u001b[0m\u001b[37m\u001b[0m \u001b[1m0s\u001b[0m 6ms/step - loss: 0.0228 - val_loss: 0.0144\n",
      "Epoch 27/50\n",
      "\u001b[1m13/13\u001b[0m \u001b[32m━━━━━━━━━━━━━━━━━━━━\u001b[0m\u001b[37m\u001b[0m \u001b[1m0s\u001b[0m 6ms/step - loss: 0.0165 - val_loss: 0.0143\n",
      "Epoch 28/50\n",
      "\u001b[1m13/13\u001b[0m \u001b[32m━━━━━━━━━━━━━━━━━━━━\u001b[0m\u001b[37m\u001b[0m \u001b[1m0s\u001b[0m 6ms/step - loss: 0.0186 - val_loss: 0.0143\n",
      "Epoch 29/50\n",
      "\u001b[1m13/13\u001b[0m \u001b[32m━━━━━━━━━━━━━━━━━━━━\u001b[0m\u001b[37m\u001b[0m \u001b[1m0s\u001b[0m 6ms/step - loss: 0.0207 - val_loss: 0.0144\n",
      "Epoch 30/50\n",
      "\u001b[1m13/13\u001b[0m \u001b[32m━━━━━━━━━━━━━━━━━━━━\u001b[0m\u001b[37m\u001b[0m \u001b[1m0s\u001b[0m 6ms/step - loss: 0.0205 - val_loss: 0.0150\n",
      "Epoch 31/50\n",
      "\u001b[1m13/13\u001b[0m \u001b[32m━━━━━━━━━━━━━━━━━━━━\u001b[0m\u001b[37m\u001b[0m \u001b[1m0s\u001b[0m 6ms/step - loss: 0.0188 - val_loss: 0.0142\n",
      "Epoch 32/50\n",
      "\u001b[1m13/13\u001b[0m \u001b[32m━━━━━━━━━━━━━━━━━━━━\u001b[0m\u001b[37m\u001b[0m \u001b[1m0s\u001b[0m 6ms/step - loss: 0.0186 - val_loss: 0.0141\n",
      "Epoch 33/50\n",
      "\u001b[1m13/13\u001b[0m \u001b[32m━━━━━━━━━━━━━━━━━━━━\u001b[0m\u001b[37m\u001b[0m \u001b[1m0s\u001b[0m 6ms/step - loss: 0.0209 - val_loss: 0.0143\n",
      "Epoch 34/50\n",
      "\u001b[1m13/13\u001b[0m \u001b[32m━━━━━━━━━━━━━━━━━━━━\u001b[0m\u001b[37m\u001b[0m \u001b[1m0s\u001b[0m 6ms/step - loss: 0.0171 - val_loss: 0.0143\n",
      "Epoch 35/50\n",
      "\u001b[1m13/13\u001b[0m \u001b[32m━━━━━━━━━━━━━━━━━━━━\u001b[0m\u001b[37m\u001b[0m \u001b[1m0s\u001b[0m 6ms/step - loss: 0.0201 - val_loss: 0.0140\n",
      "Epoch 36/50\n",
      "\u001b[1m13/13\u001b[0m \u001b[32m━━━━━━━━━━━━━━━━━━━━\u001b[0m\u001b[37m\u001b[0m \u001b[1m0s\u001b[0m 6ms/step - loss: 0.0165 - val_loss: 0.0152\n",
      "Epoch 37/50\n",
      "\u001b[1m13/13\u001b[0m \u001b[32m━━━━━━━━━━━━━━━━━━━━\u001b[0m\u001b[37m\u001b[0m \u001b[1m0s\u001b[0m 6ms/step - loss: 0.0164 - val_loss: 0.0139\n",
      "Epoch 38/50\n",
      "\u001b[1m13/13\u001b[0m \u001b[32m━━━━━━━━━━━━━━━━━━━━\u001b[0m\u001b[37m\u001b[0m \u001b[1m0s\u001b[0m 6ms/step - loss: 0.0189 - val_loss: 0.0138\n",
      "Epoch 39/50\n",
      "\u001b[1m13/13\u001b[0m \u001b[32m━━━━━━━━━━━━━━━━━━━━\u001b[0m\u001b[37m\u001b[0m \u001b[1m0s\u001b[0m 6ms/step - loss: 0.0196 - val_loss: 0.0137\n",
      "Epoch 40/50\n",
      "\u001b[1m13/13\u001b[0m \u001b[32m━━━━━━━━━━━━━━━━━━━━\u001b[0m\u001b[37m\u001b[0m \u001b[1m0s\u001b[0m 6ms/step - loss: 0.0195 - val_loss: 0.0136\n",
      "Epoch 41/50\n",
      "\u001b[1m13/13\u001b[0m \u001b[32m━━━━━━━━━━━━━━━━━━━━\u001b[0m\u001b[37m\u001b[0m \u001b[1m0s\u001b[0m 6ms/step - loss: 0.0210 - val_loss: 0.0137\n",
      "Epoch 42/50\n",
      "\u001b[1m13/13\u001b[0m \u001b[32m━━━━━━━━━━━━━━━━━━━━\u001b[0m\u001b[37m\u001b[0m \u001b[1m0s\u001b[0m 6ms/step - loss: 0.0188 - val_loss: 0.0135\n",
      "Epoch 43/50\n",
      "\u001b[1m13/13\u001b[0m \u001b[32m━━━━━━━━━━━━━━━━━━━━\u001b[0m\u001b[37m\u001b[0m \u001b[1m0s\u001b[0m 6ms/step - loss: 0.0195 - val_loss: 0.0142\n",
      "Epoch 44/50\n",
      "\u001b[1m13/13\u001b[0m \u001b[32m━━━━━━━━━━━━━━━━━━━━\u001b[0m\u001b[37m\u001b[0m \u001b[1m0s\u001b[0m 6ms/step - loss: 0.0210 - val_loss: 0.0138\n",
      "Epoch 45/50\n",
      "\u001b[1m13/13\u001b[0m \u001b[32m━━━━━━━━━━━━━━━━━━━━\u001b[0m\u001b[37m\u001b[0m \u001b[1m0s\u001b[0m 6ms/step - loss: 0.0188 - val_loss: 0.0137\n",
      "Epoch 46/50\n",
      "\u001b[1m13/13\u001b[0m \u001b[32m━━━━━━━━━━━━━━━━━━━━\u001b[0m\u001b[37m\u001b[0m \u001b[1m0s\u001b[0m 6ms/step - loss: 0.0181 - val_loss: 0.0147\n",
      "Epoch 47/50\n",
      "\u001b[1m13/13\u001b[0m \u001b[32m━━━━━━━━━━━━━━━━━━━━\u001b[0m\u001b[37m\u001b[0m \u001b[1m0s\u001b[0m 6ms/step - loss: 0.0178 - val_loss: 0.0133\n",
      "Epoch 48/50\n",
      "\u001b[1m13/13\u001b[0m \u001b[32m━━━━━━━━━━━━━━━━━━━━\u001b[0m\u001b[37m\u001b[0m \u001b[1m0s\u001b[0m 6ms/step - loss: 0.0177 - val_loss: 0.0132\n",
      "Epoch 49/50\n",
      "\u001b[1m13/13\u001b[0m \u001b[32m━━━━━━━━━━━━━━━━━━━━\u001b[0m\u001b[37m\u001b[0m \u001b[1m0s\u001b[0m 6ms/step - loss: 0.0188 - val_loss: 0.0136\n",
      "Epoch 50/50\n",
      "\u001b[1m13/13\u001b[0m \u001b[32m━━━━━━━━━━━━━━━━━━━━\u001b[0m\u001b[37m\u001b[0m \u001b[1m0s\u001b[0m 6ms/step - loss: 0.0171 - val_loss: 0.0131\n",
      "time:  9.24413251876831\n"
     ]
    }
   ],
   "source": [
    "start = time.time()\n",
    "history = model.fit(X_train, y_train, epochs=50, batch_size=32, validation_data=(X_test, y_test))\n",
    "print(\"time: \",time.time()-start)"
   ]
  },
  {
   "cell_type": "code",
   "execution_count": 34,
   "id": "e1b77b3a",
   "metadata": {
    "execution": {
     "iopub.execute_input": "2024-07-30T11:17:00.087053Z",
     "iopub.status.busy": "2024-07-30T11:17:00.086229Z",
     "iopub.status.idle": "2024-07-30T11:17:00.865838Z",
     "shell.execute_reply": "2024-07-30T11:17:00.864508Z"
    },
    "papermill": {
     "duration": 0.814977,
     "end_time": "2024-07-30T11:17:00.868510",
     "exception": false,
     "start_time": "2024-07-30T11:17:00.053533",
     "status": "completed"
    },
    "tags": []
   },
   "outputs": [
    {
     "name": "stdout",
     "output_type": "stream",
     "text": [
      "\u001b[1m4/4\u001b[0m \u001b[32m━━━━━━━━━━━━━━━━━━━━\u001b[0m\u001b[37m\u001b[0m \u001b[1m0s\u001b[0m 3ms/step - loss: 0.0134 \n",
      "Test Loss: 0.013080652803182602\n",
      "\u001b[1m4/4\u001b[0m \u001b[32m━━━━━━━━━━━━━━━━━━━━\u001b[0m\u001b[37m\u001b[0m \u001b[1m1s\u001b[0m 100ms/step\n"
     ]
    }
   ],
   "source": [
    "loss = model.evaluate(X_test, y_test)\n",
    "print(f'Test Loss: {loss}')\n",
    "predictions = model.predict(X_test)"
   ]
  },
  {
   "cell_type": "code",
   "execution_count": 35,
   "id": "1360ae80",
   "metadata": {
    "execution": {
     "iopub.execute_input": "2024-07-30T11:17:00.936901Z",
     "iopub.status.busy": "2024-07-30T11:17:00.935935Z",
     "iopub.status.idle": "2024-07-30T11:17:00.943150Z",
     "shell.execute_reply": "2024-07-30T11:17:00.942106Z"
    },
    "papermill": {
     "duration": 0.042606,
     "end_time": "2024-07-30T11:17:00.945428",
     "exception": false,
     "start_time": "2024-07-30T11:17:00.902822",
     "status": "completed"
    },
    "tags": []
   },
   "outputs": [],
   "source": [
    "# Assuming y_scaler is the scaler used for scaling y_train and y_test\n",
    "y_scaler = MinMaxScaler()\n",
    "y_scaler.fit_transform(y_train.reshape(-1, 1))\n",
    "\n",
    "# Inverse transform the predictions\n",
    "predictions = y_scaler.inverse_transform(predictions)\n",
    "y_test = y_scaler.inverse_transform(y_test.reshape(-1, 1))\n"
   ]
  },
  {
   "cell_type": "code",
   "execution_count": 36,
   "id": "55a80307",
   "metadata": {
    "execution": {
     "iopub.execute_input": "2024-07-30T11:17:01.010997Z",
     "iopub.status.busy": "2024-07-30T11:17:01.010585Z",
     "iopub.status.idle": "2024-07-30T11:17:01.326636Z",
     "shell.execute_reply": "2024-07-30T11:17:01.325441Z"
    },
    "papermill": {
     "duration": 0.352576,
     "end_time": "2024-07-30T11:17:01.329651",
     "exception": false,
     "start_time": "2024-07-30T11:17:00.977075",
     "status": "completed"
    },
    "tags": []
   },
   "outputs": [
    {
     "name": "stdout",
     "output_type": "stream",
     "text": [
      "Mean Squared Error: 0.013080653408322469\n",
      "Mean Absolute Error: 0.08121796705061808\n",
      "R2 Score: 0.7011516039797733\n"
     ]
    },
    {
     "data": {
      "image/png": "[encoded data removed]",
      "text/plain": [
       "<Figure size 1000x700 with 1 Axes>"
      ]
     },
     "metadata": {},
     "output_type": "display_data"
    }
   ],
   "source": [
    "mse_lstm = mean_squared_error(y_test,predictions)\n",
    "mae_lstm = mean_absolute_error(y_test,predictions)\n",
    "r2_lstm = r2_score(y_test,predictions)\n",
    "\n",
    "print(f\"Mean Squared Error:\",mse_lstm)\n",
    "print(f\"Mean Absolute Error:\",mae_lstm)\n",
    "print(f\"R2 Score:\",r2_lstm)\n",
    "import matplotlib.pyplot as plt\n",
    "plt.figure(figsize=(10, 7))\n",
    "plt.scatter(y_test,predictions,alpha=0.5)\n",
    "plt.plot([y_test.min(),y_test.max()],[y_test.min(),y_test.max()],'r--',lw=2)\n",
    "plt.xlabel('Actual')\n",
    "plt.ylabel('Predicted')\n",
    "plt.title('Actual vs Predicted')\n",
    "plt.show()"
   ]
  },
  {
   "cell_type": "markdown",
   "id": "1f5d4e4c",
   "metadata": {
    "papermill": {
     "duration": 0.032176,
     "end_time": "2024-07-30T11:17:01.394359",
     "exception": false,
     "start_time": "2024-07-30T11:17:01.362183",
     "status": "completed"
    },
    "tags": []
   },
   "source": [
    "# Model Evaluation"
   ]
  },
  {
   "cell_type": "code",
   "execution_count": 37,
   "id": "1ad8928c",
   "metadata": {
    "execution": {
     "iopub.execute_input": "2024-07-30T11:17:01.463304Z",
     "iopub.status.busy": "2024-07-30T11:17:01.460504Z",
     "iopub.status.idle": "2024-07-30T11:17:01.856535Z",
     "shell.execute_reply": "2024-07-30T11:17:01.855344Z"
    },
    "papermill": {
     "duration": 0.432369,
     "end_time": "2024-07-30T11:17:01.859071",
     "exception": false,
     "start_time": "2024-07-30T11:17:01.426702",
     "status": "completed"
    },
    "tags": []
   },
   "outputs": [
    {
     "data": {
      "image/png": "[encoded data removed]",
      "text/plain": [
       "<Figure size 640x480 with 1 Axes>"
      ]
     },
     "metadata": {},
     "output_type": "display_data"
    }
   ],
   "source": [
    "model_names = ['Linear Regression', 'Lasso', 'Ridge', 'Elastic Net', 'Support Vector Regressor', 'Random Forest Regressor', 'XGABoost', 'LSTM']\n",
    "mse_values = [mse_lr,mse_lasso,mse_ridge,mse_elastic,mse_svr,mse_rfr,mse_xgb,mse_lstm]\n",
    "mae_values = [mae_lr,mae_lasso,mae_ridge,mae_elastic,mae_svr,mae_rfr,mae_xgb,mae_lstm]\n",
    "r2_scores = [r2_lr,r2_lasso,r2_ridge,r2_elastic,r2_svr,r2_rfr,r2_xgb,r2_lstm]\n",
    "\n",
    "positions = np.arange(len(model_names))\n",
    "width = 0.25\n",
    "\n",
    "plt.bar(positions, mse_values, width=width, label='MSE', align='center')\n",
    "plt.bar(positions + width, mae_values, width=width, label='MAE', align='center')\n",
    "plt.bar(positions + 2 * width, r2_scores, width=width, label='R² Score', align='center')\n",
    "\n",
    "plt.xlabel('Models')\n",
    "plt.ylabel('Values')\n",
    "plt.title('Comparison of ML Models')\n",
    "plt.xticks(positions + width, model_names, rotation=45)\n",
    "plt.legend()\n",
    "\n",
    "plt.tight_layout()\n",
    "plt.show()"
   ]
  },
  {
   "cell_type": "markdown",
   "id": "5fe7fd3a",
   "metadata": {
    "papermill": {
     "duration": 0.0331,
     "end_time": "2024-07-30T11:17:01.925386",
     "exception": false,
     "start_time": "2024-07-30T11:17:01.892286",
     "status": "completed"
    },
    "tags": []
   },
   "source": [
    "# Exporting Trained Model"
   ]
  },
  {
   "cell_type": "markdown",
   "id": "7a23f8c3",
   "metadata": {
    "papermill": {
     "duration": 0.032861,
     "end_time": "2024-07-30T11:17:01.991437",
     "exception": false,
     "start_time": "2024-07-30T11:17:01.958576",
     "status": "completed"
    },
    "tags": []
   },
   "source": [
    "As we can See, XGABoost as outperformed all other models with Random Forest in the second place and \n",
    "So now Let's export out trained model to "
   ]
  },
  {
   "cell_type": "code",
   "execution_count": 38,
   "id": "ad1671c1",
   "metadata": {
    "execution": {
     "iopub.execute_input": "2024-07-30T11:17:02.059964Z",
     "iopub.status.busy": "2024-07-30T11:17:02.059198Z",
     "iopub.status.idle": "2024-07-30T11:17:02.075709Z",
     "shell.execute_reply": "2024-07-30T11:17:02.074545Z"
    },
    "papermill": {
     "duration": 0.053506,
     "end_time": "2024-07-30T11:17:02.078028",
     "exception": false,
     "start_time": "2024-07-30T11:17:02.024522",
     "status": "completed"
    },
    "tags": []
   },
   "outputs": [
    {
     "data": {
      "text/html": [
       "<div>\n",
       "<style scoped>\n",
       "    .dataframe tbody tr th:only-of-type {\n",
       "        vertical-align: middle;\n",
       "    }\n",
       "\n",
       "    .dataframe tbody tr th {\n",
       "        vertical-align: top;\n",
       "    }\n",
       "\n",
       "    .dataframe thead th {\n",
       "        text-align: right;\n",
       "    }\n",
       "</style>\n",
       "<table border=\"1\" class=\"dataframe\">\n",
       "  <thead>\n",
       "    <tr style=\"text-align: right;\">\n",
       "      <th></th>\n",
       "      <th>State Name</th>\n",
       "      <th>State area   ( Km^2)</th>\n",
       "      <th>State Population</th>\n",
       "      <th>Total Water Storage in Reservoirs(mcm)</th>\n",
       "      <th>Groundwater Level(mbgl)</th>\n",
       "      <th>Total Water Demand(BCM)</th>\n",
       "      <th>Rain Water(mm)</th>\n",
       "      <th>Population Density(per Km^2)</th>\n",
       "      <th>Year</th>\n",
       "    </tr>\n",
       "  </thead>\n",
       "  <tbody>\n",
       "    <tr>\n",
       "      <th>0</th>\n",
       "      <td>0.028571</td>\n",
       "      <td>0.476153</td>\n",
       "      <td>0.454715</td>\n",
       "      <td>0.127063</td>\n",
       "      <td>0.177567</td>\n",
       "      <td>0.613842</td>\n",
       "      <td>0.011458</td>\n",
       "      <td>0.027351</td>\n",
       "      <td>1.000000</td>\n",
       "    </tr>\n",
       "    <tr>\n",
       "      <th>1</th>\n",
       "      <td>0.028571</td>\n",
       "      <td>0.476153</td>\n",
       "      <td>0.448904</td>\n",
       "      <td>0.119422</td>\n",
       "      <td>0.175903</td>\n",
       "      <td>0.607573</td>\n",
       "      <td>0.084075</td>\n",
       "      <td>0.026994</td>\n",
       "      <td>0.923077</td>\n",
       "    </tr>\n",
       "    <tr>\n",
       "      <th>2</th>\n",
       "      <td>0.028571</td>\n",
       "      <td>0.476153</td>\n",
       "      <td>0.443118</td>\n",
       "      <td>0.122640</td>\n",
       "      <td>0.119321</td>\n",
       "      <td>0.601304</td>\n",
       "      <td>0.173169</td>\n",
       "      <td>0.026639</td>\n",
       "      <td>0.846154</td>\n",
       "    </tr>\n",
       "    <tr>\n",
       "      <th>3</th>\n",
       "      <td>0.028571</td>\n",
       "      <td>0.476153</td>\n",
       "      <td>0.437356</td>\n",
       "      <td>0.125319</td>\n",
       "      <td>0.106673</td>\n",
       "      <td>0.595035</td>\n",
       "      <td>0.048931</td>\n",
       "      <td>0.026285</td>\n",
       "      <td>0.769231</td>\n",
       "    </tr>\n",
       "    <tr>\n",
       "      <th>4</th>\n",
       "      <td>0.028571</td>\n",
       "      <td>0.476153</td>\n",
       "      <td>0.431619</td>\n",
       "      <td>0.118027</td>\n",
       "      <td>0.179730</td>\n",
       "      <td>0.588766</td>\n",
       "      <td>0.120932</td>\n",
       "      <td>0.025933</td>\n",
       "      <td>0.692308</td>\n",
       "    </tr>\n",
       "  </tbody>\n",
       "</table>\n",
       "</div>"
      ],
      "text/plain": [
       "   State Name  State area   ( Km^2)  State Population  \\\n",
       "0    0.028571              0.476153          0.454715   \n",
       "1    0.028571              0.476153          0.448904   \n",
       "2    0.028571              0.476153          0.443118   \n",
       "3    0.028571              0.476153          0.437356   \n",
       "4    0.028571              0.476153          0.431619   \n",
       "\n",
       "   Total Water Storage in Reservoirs(mcm)  Groundwater Level(mbgl)  \\\n",
       "0                                0.127063                 0.177567   \n",
       "1                                0.119422                 0.175903   \n",
       "2                                0.122640                 0.119321   \n",
       "3                                0.125319                 0.106673   \n",
       "4                                0.118027                 0.179730   \n",
       "\n",
       "   Total Water Demand(BCM)  Rain Water(mm)  Population Density(per Km^2)  \\\n",
       "0                 0.613842        0.011458                      0.027351   \n",
       "1                 0.607573        0.084075                      0.026994   \n",
       "2                 0.601304        0.173169                      0.026639   \n",
       "3                 0.595035        0.048931                      0.026285   \n",
       "4                 0.588766        0.120932                      0.025933   \n",
       "\n",
       "       Year  \n",
       "0  1.000000  \n",
       "1  0.923077  \n",
       "2  0.846154  \n",
       "3  0.769231  \n",
       "4  0.692308  "
      ]
     },
     "execution_count": 38,
     "metadata": {},
     "output_type": "execute_result"
    }
   ],
   "source": [
    "X.head()"
   ]
  },
  {
   "cell_type": "code",
   "execution_count": 39,
   "id": "2b03f22b",
   "metadata": {
    "execution": {
     "iopub.execute_input": "2024-07-30T11:17:02.147136Z",
     "iopub.status.busy": "2024-07-30T11:17:02.146682Z",
     "iopub.status.idle": "2024-07-30T11:17:02.160272Z",
     "shell.execute_reply": "2024-07-30T11:17:02.159112Z"
    },
    "papermill": {
     "duration": 0.051605,
     "end_time": "2024-07-30T11:17:02.163096",
     "exception": false,
     "start_time": "2024-07-30T11:17:02.111491",
     "status": "completed"
    },
    "tags": []
   },
   "outputs": [
    {
     "data": {
      "text/plain": [
       "array([0.49639267], dtype=float32)"
      ]
     },
     "execution_count": 39,
     "metadata": {},
     "output_type": "execute_result"
    }
   ],
   "source": [
    "xgb_reg.predict([[0.28571,0.476153,0.437356,0.35559,0.231,0.821,0.156,0.026994]])"
   ]
  },
  {
   "cell_type": "code",
   "execution_count": 40,
   "id": "6f89907d",
   "metadata": {
    "execution": {
     "iopub.execute_input": "2024-07-30T11:17:02.232717Z",
     "iopub.status.busy": "2024-07-30T11:17:02.231492Z",
     "iopub.status.idle": "2024-07-30T11:17:02.239279Z",
     "shell.execute_reply": "2024-07-30T11:17:02.237855Z"
    },
    "papermill": {
     "duration": 0.04545,
     "end_time": "2024-07-30T11:17:02.242255",
     "exception": false,
     "start_time": "2024-07-30T11:17:02.196805",
     "status": "completed"
    },
    "tags": []
   },
   "outputs": [
    {
     "name": "stdout",
     "output_type": "stream",
     "text": [
      "[0.         0.02857143 0.05714286 0.08571429 0.11428571 0.14285714\n",
      " 0.17142857 0.2        0.22857143 0.25714286 0.28571429 0.31428571\n",
      " 0.34285714 0.37142857 0.4        0.42857143 0.45714286 0.48571429\n",
      " 0.51428571 0.54285714 0.57142857 0.6        0.62857143 0.65714286\n",
      " 0.68571429 0.71428571 0.74285714 0.77142857 0.8        0.82857143\n",
      " 0.85714286 0.88571429 0.91428571 0.94285714 0.97142857 1.        ]\n"
     ]
    }
   ],
   "source": [
    "print(np.unique(X[\"State Name\"].values))"
   ]
  },
  {
   "cell_type": "code",
   "execution_count": 41,
   "id": "d76507fe",
   "metadata": {
    "execution": {
     "iopub.execute_input": "2024-07-30T11:17:02.312706Z",
     "iopub.status.busy": "2024-07-30T11:17:02.312274Z",
     "iopub.status.idle": "2024-07-30T11:17:02.325755Z",
     "shell.execute_reply": "2024-07-30T11:17:02.324540Z"
    },
    "papermill": {
     "duration": 0.051664,
     "end_time": "2024-07-30T11:17:02.328547",
     "exception": false,
     "start_time": "2024-07-30T11:17:02.276883",
     "status": "completed"
    },
    "tags": []
   },
   "outputs": [
    {
     "data": {
      "text/plain": [
       "['XGBoost_Model.joblib']"
      ]
     },
     "execution_count": 41,
     "metadata": {},
     "output_type": "execute_result"
    }
   ],
   "source": [
    "import joblib\n",
    "joblib.dump(xgb_reg,\"XGBoost_Model.joblib\")"
   ]
  },
  {
   "cell_type": "code",
   "execution_count": null,
   "id": "1da52f8f",
   "metadata": {
    "papermill": {
     "duration": 0.033377,
     "end_time": "2024-07-30T11:17:02.395805",
     "exception": false,
     "start_time": "2024-07-30T11:17:02.362428",
     "status": "completed"
    },
    "tags": []
   },
   "outputs": [],
   "source": []
  }
 ],
 "metadata": {
  "kaggle": {
   "accelerator": "none",
   "dataSources": [
    {
     "datasetId": 5459343,
     "sourceId": 9058601,
     "sourceType": "datasetVersion"
    }
   ],
   "dockerImageVersionId": 30746,
   "isGpuEnabled": false,
   "isInternetEnabled": true,
   "language": "python",
   "sourceType": "notebook"
  },
  "kernelspec": {
   "display_name": "Python 3",
   "language": "python",
   "name": "python3"
  },
  "language_info": {
   "codemirror_mode": {
    "name": "ipython",
    "version": 3
   },
   "file_extension": ".py",
   "mimetype": "text/x-python",
   "name": "python",
   "nbconvert_exporter": "python",
   "pygments_lexer": "ipython3",
   "version": "3.10.13"
  },
  "papermill": {
   "default_parameters": {},
   "duration": 3662.857518,
   "end_time": "2024-07-30T11:17:05.145387",
   "environment_variables": {},
   "exception": null,
   "input_path": "__notebook__.ipynb",
   "output_path": "__notebook__.ipynb",
   "parameters": {},
   "start_time": "2024-07-30T10:16:02.287869",
   "version": "2.5.0"
  }
 },
 "nbformat": 4,
 "nbformat_minor": 5
}
